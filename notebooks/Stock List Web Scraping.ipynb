{
 "cells": [
  {
   "cell_type": "code",
   "execution_count": 1,
   "id": "ad64e1ab",
   "metadata": {},
   "outputs": [],
   "source": [
    "import pandas as pd\n",
    "import numpy as np"
   ]
  },
  {
   "cell_type": "code",
   "execution_count": 10,
   "id": "bf2632a1",
   "metadata": {},
   "outputs": [
    {
     "name": "stdout",
     "output_type": "stream",
     "text": [
      "<class 'pandas.core.frame.DataFrame'>\n",
      "RangeIndex: 3370 entries, 0 to 3369\n",
      "Data columns (total 2 columns):\n",
      " #   Column        Non-Null Count  Dtype \n",
      "---  ------        --------------  ----- \n",
      " 0   Symbol        3370 non-null   object\n",
      " 1   Company Name  3370 non-null   object\n",
      "dtypes: object(2)\n",
      "memory usage: 52.8+ KB\n"
     ]
    }
   ],
   "source": [
    "# nyse = pd.read_csv('')"
   ]
  },
  {
   "cell_type": "code",
   "execution_count": 14,
   "id": "4d1f6e48",
   "metadata": {},
   "outputs": [],
   "source": [
    "df.rename(columns={'Ticker': 'Symbol'}, inplace=True)"
   ]
  },
  {
   "cell_type": "code",
   "execution_count": 13,
   "id": "9e80aa24",
   "metadata": {},
   "outputs": [],
   "source": [
    "df1.rename(columns={'Company Name': 'Name'}, inplace=True)"
   ]
  },
  {
   "cell_type": "code",
   "execution_count": 21,
   "id": "a48aa2af",
   "metadata": {},
   "outputs": [],
   "source": [
    "import pandas as pd\n",
    "url = \"https://pkgstore.datahub.io/core/nyse-other-listings/nyse-listed_csv/data/3c88fab8ec158c3cd55145243fe5fcdf/nyse-listed_csv.csv\"\n",
    "df2 = pd.read_csv(url)"
   ]
  },
  {
   "cell_type": "code",
   "execution_count": 22,
   "id": "629474af",
   "metadata": {},
   "outputs": [
    {
     "data": {
      "text/html": [
       "<div>\n",
       "<style scoped>\n",
       "    .dataframe tbody tr th:only-of-type {\n",
       "        vertical-align: middle;\n",
       "    }\n",
       "\n",
       "    .dataframe tbody tr th {\n",
       "        vertical-align: top;\n",
       "    }\n",
       "\n",
       "    .dataframe thead th {\n",
       "        text-align: right;\n",
       "    }\n",
       "</style>\n",
       "<table border=\"1\" class=\"dataframe\">\n",
       "  <thead>\n",
       "    <tr style=\"text-align: right;\">\n",
       "      <th></th>\n",
       "      <th>ACT Symbol</th>\n",
       "      <th>Company Name</th>\n",
       "    </tr>\n",
       "  </thead>\n",
       "  <tbody>\n",
       "    <tr>\n",
       "      <th>0</th>\n",
       "      <td>A</td>\n",
       "      <td>Agilent Technologies, Inc. Common Stock</td>\n",
       "    </tr>\n",
       "    <tr>\n",
       "      <th>1</th>\n",
       "      <td>AA</td>\n",
       "      <td>Alcoa Inc. Common Stock</td>\n",
       "    </tr>\n",
       "    <tr>\n",
       "      <th>2</th>\n",
       "      <td>AA$B</td>\n",
       "      <td>Alcoa Inc. Depository Shares Representing 1/10...</td>\n",
       "    </tr>\n",
       "    <tr>\n",
       "      <th>3</th>\n",
       "      <td>AAC</td>\n",
       "      <td>AAC Holdings, Inc. Common Stock</td>\n",
       "    </tr>\n",
       "    <tr>\n",
       "      <th>4</th>\n",
       "      <td>AAN</td>\n",
       "      <td>Aaron's, Inc. Common Stock</td>\n",
       "    </tr>\n",
       "    <tr>\n",
       "      <th>...</th>\n",
       "      <td>...</td>\n",
       "      <td>...</td>\n",
       "    </tr>\n",
       "    <tr>\n",
       "      <th>3293</th>\n",
       "      <td>ZPIN</td>\n",
       "      <td>Zhaopin Limited American Depositary Shares, ea...</td>\n",
       "    </tr>\n",
       "    <tr>\n",
       "      <th>3294</th>\n",
       "      <td>ZQK</td>\n",
       "      <td>Quiksilver, Inc. Common Stock</td>\n",
       "    </tr>\n",
       "    <tr>\n",
       "      <th>3295</th>\n",
       "      <td>ZTR</td>\n",
       "      <td>Zweig Total Return Fund, Inc. (The) Common Stock</td>\n",
       "    </tr>\n",
       "    <tr>\n",
       "      <th>3296</th>\n",
       "      <td>ZTS</td>\n",
       "      <td>Zoetis Inc. Class A Common Stock</td>\n",
       "    </tr>\n",
       "    <tr>\n",
       "      <th>3297</th>\n",
       "      <td>ZX</td>\n",
       "      <td>China Zenix Auto International Limited America...</td>\n",
       "    </tr>\n",
       "  </tbody>\n",
       "</table>\n",
       "<p>3298 rows × 2 columns</p>\n",
       "</div>"
      ],
      "text/plain": [
       "     ACT Symbol                                       Company Name\n",
       "0             A            Agilent Technologies, Inc. Common Stock\n",
       "1            AA                            Alcoa Inc. Common Stock\n",
       "2          AA$B  Alcoa Inc. Depository Shares Representing 1/10...\n",
       "3           AAC                    AAC Holdings, Inc. Common Stock\n",
       "4           AAN                         Aaron's, Inc. Common Stock\n",
       "...         ...                                                ...\n",
       "3293       ZPIN  Zhaopin Limited American Depositary Shares, ea...\n",
       "3294        ZQK                      Quiksilver, Inc. Common Stock\n",
       "3295        ZTR   Zweig Total Return Fund, Inc. (The) Common Stock\n",
       "3296        ZTS                   Zoetis Inc. Class A Common Stock\n",
       "3297         ZX  China Zenix Auto International Limited America...\n",
       "\n",
       "[3298 rows x 2 columns]"
      ]
     },
     "execution_count": 22,
     "metadata": {},
     "output_type": "execute_result"
    }
   ],
   "source": [
    "df2"
   ]
  },
  {
   "cell_type": "code",
   "execution_count": 25,
   "id": "1c4c91c3",
   "metadata": {},
   "outputs": [],
   "source": [
    "df2.rename(columns={'ACT Symbol': 'Symbol', 'Company Name': 'Name'}, inplace=True)"
   ]
  },
  {
   "cell_type": "code",
   "execution_count": 28,
   "id": "eb045436",
   "metadata": {},
   "outputs": [],
   "source": [
    "df2['Name'] = df2['Name'].apply(lambda x: func(x))"
   ]
  },
  {
   "cell_type": "code",
   "execution_count": 61,
   "id": "f6a2041a",
   "metadata": {},
   "outputs": [],
   "source": [
    "def func(x):\n",
    "    if 'Limited' in x:\n",
    "        return x[:x.find('Limited')]\n",
    "    return x"
   ]
  },
  {
   "cell_type": "code",
   "execution_count": 29,
   "id": "00f40aae",
   "metadata": {},
   "outputs": [
    {
     "data": {
      "text/html": [
       "<div>\n",
       "<style scoped>\n",
       "    .dataframe tbody tr th:only-of-type {\n",
       "        vertical-align: middle;\n",
       "    }\n",
       "\n",
       "    .dataframe tbody tr th {\n",
       "        vertical-align: top;\n",
       "    }\n",
       "\n",
       "    .dataframe thead th {\n",
       "        text-align: right;\n",
       "    }\n",
       "</style>\n",
       "<table border=\"1\" class=\"dataframe\">\n",
       "  <thead>\n",
       "    <tr style=\"text-align: right;\">\n",
       "      <th></th>\n",
       "      <th>Symbol</th>\n",
       "      <th>Name</th>\n",
       "    </tr>\n",
       "  </thead>\n",
       "  <tbody>\n",
       "    <tr>\n",
       "      <th>0</th>\n",
       "      <td>A</td>\n",
       "      <td>Agilent Technologies, Inc.</td>\n",
       "    </tr>\n",
       "    <tr>\n",
       "      <th>1</th>\n",
       "      <td>AA</td>\n",
       "      <td>Alcoa Inc.</td>\n",
       "    </tr>\n",
       "    <tr>\n",
       "      <th>2</th>\n",
       "      <td>AA$B</td>\n",
       "      <td>Alcoa Inc. Depository Shares Representing 1/10...</td>\n",
       "    </tr>\n",
       "    <tr>\n",
       "      <th>3</th>\n",
       "      <td>AAC</td>\n",
       "      <td>AAC Holdings, Inc.</td>\n",
       "    </tr>\n",
       "    <tr>\n",
       "      <th>4</th>\n",
       "      <td>AAN</td>\n",
       "      <td>Aaron's, Inc.</td>\n",
       "    </tr>\n",
       "    <tr>\n",
       "      <th>...</th>\n",
       "      <td>...</td>\n",
       "      <td>...</td>\n",
       "    </tr>\n",
       "    <tr>\n",
       "      <th>3293</th>\n",
       "      <td>ZPIN</td>\n",
       "      <td>Zhaopin Limited American Depositary Shares, ea...</td>\n",
       "    </tr>\n",
       "    <tr>\n",
       "      <th>3294</th>\n",
       "      <td>ZQK</td>\n",
       "      <td>Quiksilver, Inc.</td>\n",
       "    </tr>\n",
       "    <tr>\n",
       "      <th>3295</th>\n",
       "      <td>ZTR</td>\n",
       "      <td>Zweig Total Return Fund, Inc. (The)</td>\n",
       "    </tr>\n",
       "    <tr>\n",
       "      <th>3296</th>\n",
       "      <td>ZTS</td>\n",
       "      <td>Zoetis Inc. Class A</td>\n",
       "    </tr>\n",
       "    <tr>\n",
       "      <th>3297</th>\n",
       "      <td>ZX</td>\n",
       "      <td>China Zenix Auto International Limited America...</td>\n",
       "    </tr>\n",
       "  </tbody>\n",
       "</table>\n",
       "<p>3298 rows × 2 columns</p>\n",
       "</div>"
      ],
      "text/plain": [
       "     Symbol                                               Name\n",
       "0         A                        Agilent Technologies, Inc. \n",
       "1        AA                                        Alcoa Inc. \n",
       "2      AA$B  Alcoa Inc. Depository Shares Representing 1/10...\n",
       "3       AAC                                AAC Holdings, Inc. \n",
       "4       AAN                                     Aaron's, Inc. \n",
       "...     ...                                                ...\n",
       "3293   ZPIN  Zhaopin Limited American Depositary Shares, ea...\n",
       "3294    ZQK                                  Quiksilver, Inc. \n",
       "3295    ZTR               Zweig Total Return Fund, Inc. (The) \n",
       "3296    ZTS                               Zoetis Inc. Class A \n",
       "3297     ZX  China Zenix Auto International Limited America...\n",
       "\n",
       "[3298 rows x 2 columns]"
      ]
     },
     "execution_count": 29,
     "metadata": {},
     "output_type": "execute_result"
    }
   ],
   "source": [
    "df2"
   ]
  },
  {
   "cell_type": "code",
   "execution_count": 31,
   "id": "f4a13c84",
   "metadata": {},
   "outputs": [],
   "source": [
    "df2.to_csv('NYSE.csv', index=False)"
   ]
  },
  {
   "cell_type": "code",
   "execution_count": 32,
   "id": "84ee6c60",
   "metadata": {},
   "outputs": [],
   "source": [
    "nas = pd.read_csv('nasdaq-listed-symbols.csv')"
   ]
  },
  {
   "cell_type": "code",
   "execution_count": 34,
   "id": "e6909db7",
   "metadata": {},
   "outputs": [
    {
     "data": {
      "text/html": [
       "<div>\n",
       "<style scoped>\n",
       "    .dataframe tbody tr th:only-of-type {\n",
       "        vertical-align: middle;\n",
       "    }\n",
       "\n",
       "    .dataframe tbody tr th {\n",
       "        vertical-align: top;\n",
       "    }\n",
       "\n",
       "    .dataframe thead th {\n",
       "        text-align: right;\n",
       "    }\n",
       "</style>\n",
       "<table border=\"1\" class=\"dataframe\">\n",
       "  <thead>\n",
       "    <tr style=\"text-align: right;\">\n",
       "      <th></th>\n",
       "      <th>Symbol</th>\n",
       "      <th>Name</th>\n",
       "    </tr>\n",
       "  </thead>\n",
       "  <tbody>\n",
       "    <tr>\n",
       "      <th>0</th>\n",
       "      <td>AABA</td>\n",
       "      <td>Altaba Inc.</td>\n",
       "    </tr>\n",
       "    <tr>\n",
       "      <th>1</th>\n",
       "      <td>AAL</td>\n",
       "      <td>American Airlines Group, Inc.</td>\n",
       "    </tr>\n",
       "    <tr>\n",
       "      <th>2</th>\n",
       "      <td>AAME</td>\n",
       "      <td>Atlantic American Corporation</td>\n",
       "    </tr>\n",
       "    <tr>\n",
       "      <th>3</th>\n",
       "      <td>AAOI</td>\n",
       "      <td>Applied Optoelectronics, Inc.</td>\n",
       "    </tr>\n",
       "    <tr>\n",
       "      <th>4</th>\n",
       "      <td>AAON</td>\n",
       "      <td>AAON, Inc.</td>\n",
       "    </tr>\n",
       "    <tr>\n",
       "      <th>...</th>\n",
       "      <td>...</td>\n",
       "      <td>...</td>\n",
       "    </tr>\n",
       "    <tr>\n",
       "      <th>3365</th>\n",
       "      <td>ZNWAA</td>\n",
       "      <td>Zion Oil &amp; Gas Inc</td>\n",
       "    </tr>\n",
       "    <tr>\n",
       "      <th>3366</th>\n",
       "      <td>ZS</td>\n",
       "      <td>Zscaler, Inc.</td>\n",
       "    </tr>\n",
       "    <tr>\n",
       "      <th>3367</th>\n",
       "      <td>ZSAN</td>\n",
       "      <td>Zosano Pharma Corporation</td>\n",
       "    </tr>\n",
       "    <tr>\n",
       "      <th>3368</th>\n",
       "      <td>ZUMZ</td>\n",
       "      <td>Zumiez Inc.</td>\n",
       "    </tr>\n",
       "    <tr>\n",
       "      <th>3369</th>\n",
       "      <td>ZYNE</td>\n",
       "      <td>Zynerba Pharmaceuticals, Inc.</td>\n",
       "    </tr>\n",
       "  </tbody>\n",
       "</table>\n",
       "<p>3370 rows × 2 columns</p>\n",
       "</div>"
      ],
      "text/plain": [
       "     Symbol                            Name\n",
       "0      AABA                    Altaba Inc. \n",
       "1       AAL  American Airlines Group, Inc. \n",
       "2      AAME  Atlantic American Corporation \n",
       "3      AAOI  Applied Optoelectronics, Inc. \n",
       "4      AAON                     AAON, Inc. \n",
       "...     ...                             ...\n",
       "3365  ZNWAA             Zion Oil & Gas Inc \n",
       "3366     ZS                  Zscaler, Inc. \n",
       "3367   ZSAN      Zosano Pharma Corporation \n",
       "3368   ZUMZ                    Zumiez Inc. \n",
       "3369   ZYNE  Zynerba Pharmaceuticals, Inc. \n",
       "\n",
       "[3370 rows x 2 columns]"
      ]
     },
     "execution_count": 34,
     "metadata": {},
     "output_type": "execute_result"
    }
   ],
   "source": [
    "nas.rename(columns={'Company Name': 'Name'})"
   ]
  },
  {
   "cell_type": "code",
   "execution_count": 36,
   "id": "208b8e00",
   "metadata": {},
   "outputs": [],
   "source": [
    "nas.to_csv('NASDAQ.csv', index=False)"
   ]
  },
  {
   "cell_type": "code",
   "execution_count": 37,
   "id": "36866408",
   "metadata": {},
   "outputs": [],
   "source": [
    "snp = pd.read_csv('snp.csv')"
   ]
  },
  {
   "cell_type": "code",
   "execution_count": 41,
   "id": "d61842a8",
   "metadata": {},
   "outputs": [],
   "source": [
    "snp.drop(['Sector'], axis=1, inplace=True)"
   ]
  },
  {
   "cell_type": "code",
   "execution_count": 43,
   "id": "6306aaa0",
   "metadata": {},
   "outputs": [],
   "source": [
    "snp.to_csv('S&P500.csv', index=False)"
   ]
  },
  {
   "cell_type": "code",
   "execution_count": 62,
   "id": "59a7dd41",
   "metadata": {},
   "outputs": [],
   "source": [
    "nse = pd.read_csv('nse.csv')"
   ]
  },
  {
   "cell_type": "code",
   "execution_count": 63,
   "id": "61ddfaef",
   "metadata": {},
   "outputs": [],
   "source": [
    "nse.drop('Unnamed: 0', axis=1, inplace=True)"
   ]
  },
  {
   "cell_type": "code",
   "execution_count": 64,
   "id": "30592574",
   "metadata": {},
   "outputs": [],
   "source": [
    "nse['Name'] = nse['Name'].apply(lambda x: x.split('_')).apply(lambda x: ' '.join(x)).apply(lambda x: func(x))"
   ]
  },
  {
   "cell_type": "code",
   "execution_count": 68,
   "id": "8b884a0d",
   "metadata": {},
   "outputs": [],
   "source": [
    "nse.to_csv('NSE.csv', index=False)"
   ]
  },
  {
   "cell_type": "code",
   "execution_count": 69,
   "id": "0a716e27",
   "metadata": {},
   "outputs": [],
   "source": [
    "nas = pd.read_csv('Stocks list/NASDAQ.csv')"
   ]
  },
  {
   "cell_type": "code",
   "execution_count": 72,
   "id": "33ebfbae",
   "metadata": {},
   "outputs": [],
   "source": [
    "nas.rename(columns={'Company Name': 'Name'}, inplace=True)"
   ]
  },
  {
   "cell_type": "code",
   "execution_count": 73,
   "id": "e4c2a4c4",
   "metadata": {},
   "outputs": [],
   "source": [
    "nas.to_csv('NASDAQ.csv', index=False)"
   ]
  },
  {
   "cell_type": "code",
   "execution_count": 74,
   "id": "20fac388",
   "metadata": {},
   "outputs": [],
   "source": [
    "import yfinance as yf"
   ]
  },
  {
   "cell_type": "code",
   "execution_count": 77,
   "id": "da8986f1",
   "metadata": {},
   "outputs": [
    {
     "name": "stdout",
     "output_type": "stream",
     "text": [
      "[*********************100%%**********************]  1 of 1 completed\n"
     ]
    },
    {
     "data": {
      "text/html": [
       "<div>\n",
       "<style scoped>\n",
       "    .dataframe tbody tr th:only-of-type {\n",
       "        vertical-align: middle;\n",
       "    }\n",
       "\n",
       "    .dataframe tbody tr th {\n",
       "        vertical-align: top;\n",
       "    }\n",
       "\n",
       "    .dataframe thead th {\n",
       "        text-align: right;\n",
       "    }\n",
       "</style>\n",
       "<table border=\"1\" class=\"dataframe\">\n",
       "  <thead>\n",
       "    <tr style=\"text-align: right;\">\n",
       "      <th></th>\n",
       "      <th>Date</th>\n",
       "      <th>Open</th>\n",
       "      <th>High</th>\n",
       "      <th>Low</th>\n",
       "      <th>Close</th>\n",
       "      <th>Adj Close</th>\n",
       "      <th>Volume</th>\n",
       "    </tr>\n",
       "  </thead>\n",
       "  <tbody>\n",
       "    <tr>\n",
       "      <th>0</th>\n",
       "      <td>2013-10-18</td>\n",
       "      <td>18.071072</td>\n",
       "      <td>18.187857</td>\n",
       "      <td>18.061071</td>\n",
       "      <td>18.174643</td>\n",
       "      <td>15.861938</td>\n",
       "      <td>290542000</td>\n",
       "    </tr>\n",
       "    <tr>\n",
       "      <th>1</th>\n",
       "      <td>2013-10-21</td>\n",
       "      <td>18.277500</td>\n",
       "      <td>18.725000</td>\n",
       "      <td>18.268572</td>\n",
       "      <td>18.620001</td>\n",
       "      <td>16.250626</td>\n",
       "      <td>398106800</td>\n",
       "    </tr>\n",
       "    <tr>\n",
       "      <th>2</th>\n",
       "      <td>2013-10-22</td>\n",
       "      <td>18.800358</td>\n",
       "      <td>18.873215</td>\n",
       "      <td>18.143929</td>\n",
       "      <td>18.566786</td>\n",
       "      <td>16.204182</td>\n",
       "      <td>534063600</td>\n",
       "    </tr>\n",
       "    <tr>\n",
       "      <th>3</th>\n",
       "      <td>2013-10-23</td>\n",
       "      <td>18.535713</td>\n",
       "      <td>18.773930</td>\n",
       "      <td>18.535713</td>\n",
       "      <td>18.748571</td>\n",
       "      <td>16.362837</td>\n",
       "      <td>313723200</td>\n",
       "    </tr>\n",
       "    <tr>\n",
       "      <th>4</th>\n",
       "      <td>2013-10-24</td>\n",
       "      <td>18.750000</td>\n",
       "      <td>19.016787</td>\n",
       "      <td>18.658930</td>\n",
       "      <td>18.996786</td>\n",
       "      <td>16.579464</td>\n",
       "      <td>384764800</td>\n",
       "    </tr>\n",
       "    <tr>\n",
       "      <th>...</th>\n",
       "      <td>...</td>\n",
       "      <td>...</td>\n",
       "      <td>...</td>\n",
       "      <td>...</td>\n",
       "      <td>...</td>\n",
       "      <td>...</td>\n",
       "      <td>...</td>\n",
       "    </tr>\n",
       "    <tr>\n",
       "      <th>2509</th>\n",
       "      <td>2023-10-09</td>\n",
       "      <td>176.809998</td>\n",
       "      <td>179.050003</td>\n",
       "      <td>175.800003</td>\n",
       "      <td>178.990005</td>\n",
       "      <td>178.990005</td>\n",
       "      <td>42390800</td>\n",
       "    </tr>\n",
       "    <tr>\n",
       "      <th>2510</th>\n",
       "      <td>2023-10-10</td>\n",
       "      <td>178.100006</td>\n",
       "      <td>179.720001</td>\n",
       "      <td>177.949997</td>\n",
       "      <td>178.389999</td>\n",
       "      <td>178.389999</td>\n",
       "      <td>43698000</td>\n",
       "    </tr>\n",
       "    <tr>\n",
       "      <th>2511</th>\n",
       "      <td>2023-10-11</td>\n",
       "      <td>178.199997</td>\n",
       "      <td>179.850006</td>\n",
       "      <td>177.600006</td>\n",
       "      <td>179.800003</td>\n",
       "      <td>179.800003</td>\n",
       "      <td>47551100</td>\n",
       "    </tr>\n",
       "    <tr>\n",
       "      <th>2512</th>\n",
       "      <td>2023-10-12</td>\n",
       "      <td>180.070007</td>\n",
       "      <td>182.339996</td>\n",
       "      <td>179.039993</td>\n",
       "      <td>180.710007</td>\n",
       "      <td>180.710007</td>\n",
       "      <td>56743100</td>\n",
       "    </tr>\n",
       "    <tr>\n",
       "      <th>2513</th>\n",
       "      <td>2023-10-13</td>\n",
       "      <td>181.419998</td>\n",
       "      <td>181.929993</td>\n",
       "      <td>178.139999</td>\n",
       "      <td>178.850006</td>\n",
       "      <td>178.850006</td>\n",
       "      <td>51427100</td>\n",
       "    </tr>\n",
       "  </tbody>\n",
       "</table>\n",
       "<p>2514 rows × 7 columns</p>\n",
       "</div>"
      ],
      "text/plain": [
       "           Date        Open        High         Low       Close   Adj Close  \\\n",
       "0    2013-10-18   18.071072   18.187857   18.061071   18.174643   15.861938   \n",
       "1    2013-10-21   18.277500   18.725000   18.268572   18.620001   16.250626   \n",
       "2    2013-10-22   18.800358   18.873215   18.143929   18.566786   16.204182   \n",
       "3    2013-10-23   18.535713   18.773930   18.535713   18.748571   16.362837   \n",
       "4    2013-10-24   18.750000   19.016787   18.658930   18.996786   16.579464   \n",
       "...         ...         ...         ...         ...         ...         ...   \n",
       "2509 2023-10-09  176.809998  179.050003  175.800003  178.990005  178.990005   \n",
       "2510 2023-10-10  178.100006  179.720001  177.949997  178.389999  178.389999   \n",
       "2511 2023-10-11  178.199997  179.850006  177.600006  179.800003  179.800003   \n",
       "2512 2023-10-12  180.070007  182.339996  179.039993  180.710007  180.710007   \n",
       "2513 2023-10-13  181.419998  181.929993  178.139999  178.850006  178.850006   \n",
       "\n",
       "         Volume  \n",
       "0     290542000  \n",
       "1     398106800  \n",
       "2     534063600  \n",
       "3     313723200  \n",
       "4     384764800  \n",
       "...         ...  \n",
       "2509   42390800  \n",
       "2510   43698000  \n",
       "2511   47551100  \n",
       "2512   56743100  \n",
       "2513   51427100  \n",
       "\n",
       "[2514 rows x 7 columns]"
      ]
     },
     "execution_count": 77,
     "metadata": {},
     "output_type": "execute_result"
    }
   ],
   "source": [
    "start = '2013-10-18'\n",
    "end = '2023-10-18'\n",
    "data = yf.download('AAPL', start, end)\n",
    "data = data.reset_index()\n",
    "data"
   ]
  },
  {
   "cell_type": "code",
   "execution_count": null,
   "id": "3280d21e",
   "metadata": {},
   "outputs": [],
   "source": []
  }
 ],
 "metadata": {
  "kernelspec": {
   "display_name": "tfod",
   "language": "python",
   "name": "tfod"
  },
  "language_info": {
   "codemirror_mode": {
    "name": "ipython",
    "version": 3
   },
   "file_extension": ".py",
   "mimetype": "text/x-python",
   "name": "python",
   "nbconvert_exporter": "python",
   "pygments_lexer": "ipython3",
   "version": "3.11.0"
  }
 },
 "nbformat": 4,
 "nbformat_minor": 5
}
