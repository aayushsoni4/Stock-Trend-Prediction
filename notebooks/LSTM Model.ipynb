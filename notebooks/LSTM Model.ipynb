{
 "cells": [
  {
   "cell_type": "code",
   "execution_count": 9,
   "id": "a9f02e01",
   "metadata": {
    "scrolled": false
   },
   "outputs": [],
   "source": [
    "import numpy as np\n",
    "import pandas as pd\n",
    "import matplotlib.pyplot as plt\n",
    "import yfinance as yf\n",
    "\n",
    "%matplotlib inline"
   ]
  },
  {
   "cell_type": "code",
   "execution_count": 10,
   "id": "35f97ca3",
   "metadata": {},
   "outputs": [
    {
     "name": "stdout",
     "output_type": "stream",
     "text": [
      "[*********************100%%**********************]  1 of 1 completed\n",
      "[*********************100%%**********************]  1 of 1 completed\n",
      "[*********************100%%**********************]  1 of 1 completed\n",
      "[*********************100%%**********************]  1 of 1 completed\n"
     ]
    }
   ],
   "source": [
    "start = '2010-01-01'\n",
    "SnP500 = yf.download('^GSPC', start)\n",
    "NASDAQ = yf.download('^IXIC', start)\n",
    "NIFTY = yf.download('^NSEI', start)\n",
    "NYSE = yf.download('^NYA', start)"
   ]
  },
  {
   "cell_type": "code",
   "execution_count": 11,
   "id": "2e2f4457",
   "metadata": {},
   "outputs": [
    {
     "data": {
      "text/html": [
       "<div>\n",
       "<style scoped>\n",
       "    .dataframe tbody tr th:only-of-type {\n",
       "        vertical-align: middle;\n",
       "    }\n",
       "\n",
       "    .dataframe tbody tr th {\n",
       "        vertical-align: top;\n",
       "    }\n",
       "\n",
       "    .dataframe thead th {\n",
       "        text-align: right;\n",
       "    }\n",
       "</style>\n",
       "<table border=\"1\" class=\"dataframe\">\n",
       "  <thead>\n",
       "    <tr style=\"text-align: right;\">\n",
       "      <th></th>\n",
       "      <th>Open</th>\n",
       "      <th>High</th>\n",
       "      <th>Low</th>\n",
       "      <th>Close</th>\n",
       "      <th>Adj Close</th>\n",
       "      <th>Volume</th>\n",
       "    </tr>\n",
       "    <tr>\n",
       "      <th>Date</th>\n",
       "      <th></th>\n",
       "      <th></th>\n",
       "      <th></th>\n",
       "      <th></th>\n",
       "      <th></th>\n",
       "      <th></th>\n",
       "    </tr>\n",
       "  </thead>\n",
       "  <tbody>\n",
       "    <tr>\n",
       "      <th>2010-01-04</th>\n",
       "      <td>1116.560059</td>\n",
       "      <td>1133.869995</td>\n",
       "      <td>1116.560059</td>\n",
       "      <td>1132.989990</td>\n",
       "      <td>1132.989990</td>\n",
       "      <td>3991400000</td>\n",
       "    </tr>\n",
       "    <tr>\n",
       "      <th>2010-01-05</th>\n",
       "      <td>1132.660034</td>\n",
       "      <td>1136.630005</td>\n",
       "      <td>1129.660034</td>\n",
       "      <td>1136.520020</td>\n",
       "      <td>1136.520020</td>\n",
       "      <td>2491020000</td>\n",
       "    </tr>\n",
       "    <tr>\n",
       "      <th>2010-01-06</th>\n",
       "      <td>1135.709961</td>\n",
       "      <td>1139.189941</td>\n",
       "      <td>1133.949951</td>\n",
       "      <td>1137.140015</td>\n",
       "      <td>1137.140015</td>\n",
       "      <td>4972660000</td>\n",
       "    </tr>\n",
       "    <tr>\n",
       "      <th>2010-01-07</th>\n",
       "      <td>1136.270020</td>\n",
       "      <td>1142.459961</td>\n",
       "      <td>1131.319946</td>\n",
       "      <td>1141.689941</td>\n",
       "      <td>1141.689941</td>\n",
       "      <td>5270680000</td>\n",
       "    </tr>\n",
       "    <tr>\n",
       "      <th>2010-01-08</th>\n",
       "      <td>1140.520020</td>\n",
       "      <td>1145.390015</td>\n",
       "      <td>1136.219971</td>\n",
       "      <td>1144.979980</td>\n",
       "      <td>1144.979980</td>\n",
       "      <td>4389590000</td>\n",
       "    </tr>\n",
       "  </tbody>\n",
       "</table>\n",
       "</div>"
      ],
      "text/plain": [
       "                   Open         High          Low        Close    Adj Close  \\\n",
       "Date                                                                          \n",
       "2010-01-04  1116.560059  1133.869995  1116.560059  1132.989990  1132.989990   \n",
       "2010-01-05  1132.660034  1136.630005  1129.660034  1136.520020  1136.520020   \n",
       "2010-01-06  1135.709961  1139.189941  1133.949951  1137.140015  1137.140015   \n",
       "2010-01-07  1136.270020  1142.459961  1131.319946  1141.689941  1141.689941   \n",
       "2010-01-08  1140.520020  1145.390015  1136.219971  1144.979980  1144.979980   \n",
       "\n",
       "                Volume  \n",
       "Date                    \n",
       "2010-01-04  3991400000  \n",
       "2010-01-05  2491020000  \n",
       "2010-01-06  4972660000  \n",
       "2010-01-07  5270680000  \n",
       "2010-01-08  4389590000  "
      ]
     },
     "execution_count": 11,
     "metadata": {},
     "output_type": "execute_result"
    }
   ],
   "source": [
    "SnP500.head()"
   ]
  },
  {
   "cell_type": "code",
   "execution_count": 12,
   "id": "1a4a4c29",
   "metadata": {},
   "outputs": [
    {
     "data": {
      "text/html": [
       "<div>\n",
       "<style scoped>\n",
       "    .dataframe tbody tr th:only-of-type {\n",
       "        vertical-align: middle;\n",
       "    }\n",
       "\n",
       "    .dataframe tbody tr th {\n",
       "        vertical-align: top;\n",
       "    }\n",
       "\n",
       "    .dataframe thead th {\n",
       "        text-align: right;\n",
       "    }\n",
       "</style>\n",
       "<table border=\"1\" class=\"dataframe\">\n",
       "  <thead>\n",
       "    <tr style=\"text-align: right;\">\n",
       "      <th></th>\n",
       "      <th>Open</th>\n",
       "      <th>High</th>\n",
       "      <th>Low</th>\n",
       "      <th>Close</th>\n",
       "      <th>Adj Close</th>\n",
       "      <th>Volume</th>\n",
       "    </tr>\n",
       "    <tr>\n",
       "      <th>Date</th>\n",
       "      <th></th>\n",
       "      <th></th>\n",
       "      <th></th>\n",
       "      <th></th>\n",
       "      <th></th>\n",
       "      <th></th>\n",
       "    </tr>\n",
       "  </thead>\n",
       "  <tbody>\n",
       "    <tr>\n",
       "      <th>2023-10-09</th>\n",
       "      <td>19539.449219</td>\n",
       "      <td>19588.949219</td>\n",
       "      <td>19480.500000</td>\n",
       "      <td>19512.349609</td>\n",
       "      <td>19512.349609</td>\n",
       "      <td>165100</td>\n",
       "    </tr>\n",
       "    <tr>\n",
       "      <th>2023-10-10</th>\n",
       "      <td>19565.599609</td>\n",
       "      <td>19717.800781</td>\n",
       "      <td>19565.449219</td>\n",
       "      <td>19689.849609</td>\n",
       "      <td>19689.849609</td>\n",
       "      <td>216600</td>\n",
       "    </tr>\n",
       "    <tr>\n",
       "      <th>2023-10-11</th>\n",
       "      <td>19767.000000</td>\n",
       "      <td>19839.199219</td>\n",
       "      <td>19756.949219</td>\n",
       "      <td>19811.349609</td>\n",
       "      <td>19811.349609</td>\n",
       "      <td>213700</td>\n",
       "    </tr>\n",
       "    <tr>\n",
       "      <th>2023-10-12</th>\n",
       "      <td>19822.699219</td>\n",
       "      <td>19843.300781</td>\n",
       "      <td>19772.650391</td>\n",
       "      <td>19794.000000</td>\n",
       "      <td>19794.000000</td>\n",
       "      <td>217900</td>\n",
       "    </tr>\n",
       "    <tr>\n",
       "      <th>2023-10-13</th>\n",
       "      <td>19654.550781</td>\n",
       "      <td>19805.400391</td>\n",
       "      <td>19635.300781</td>\n",
       "      <td>19751.050781</td>\n",
       "      <td>19751.050781</td>\n",
       "      <td>255000</td>\n",
       "    </tr>\n",
       "  </tbody>\n",
       "</table>\n",
       "</div>"
      ],
      "text/plain": [
       "                    Open          High           Low         Close  \\\n",
       "Date                                                                 \n",
       "2023-10-09  19539.449219  19588.949219  19480.500000  19512.349609   \n",
       "2023-10-10  19565.599609  19717.800781  19565.449219  19689.849609   \n",
       "2023-10-11  19767.000000  19839.199219  19756.949219  19811.349609   \n",
       "2023-10-12  19822.699219  19843.300781  19772.650391  19794.000000   \n",
       "2023-10-13  19654.550781  19805.400391  19635.300781  19751.050781   \n",
       "\n",
       "               Adj Close  Volume  \n",
       "Date                              \n",
       "2023-10-09  19512.349609  165100  \n",
       "2023-10-10  19689.849609  216600  \n",
       "2023-10-11  19811.349609  213700  \n",
       "2023-10-12  19794.000000  217900  \n",
       "2023-10-13  19751.050781  255000  "
      ]
     },
     "execution_count": 12,
     "metadata": {},
     "output_type": "execute_result"
    }
   ],
   "source": [
    "NIFTY.tail()"
   ]
  },
  {
   "cell_type": "code",
   "execution_count": 13,
   "id": "304149e6",
   "metadata": {},
   "outputs": [],
   "source": [
    "NIFTY = NIFTY.reset_index()\n",
    "SnP500 = SnP500.reset_index()\n",
    "NYSE = NYSE.reset_index()\n",
    "NASDAQ = NASDAQ.reset_index()"
   ]
  },
  {
   "cell_type": "code",
   "execution_count": 14,
   "id": "2f219b9b",
   "metadata": {},
   "outputs": [
    {
     "data": {
      "text/html": [
       "<div>\n",
       "<style scoped>\n",
       "    .dataframe tbody tr th:only-of-type {\n",
       "        vertical-align: middle;\n",
       "    }\n",
       "\n",
       "    .dataframe tbody tr th {\n",
       "        vertical-align: top;\n",
       "    }\n",
       "\n",
       "    .dataframe thead th {\n",
       "        text-align: right;\n",
       "    }\n",
       "</style>\n",
       "<table border=\"1\" class=\"dataframe\">\n",
       "  <thead>\n",
       "    <tr style=\"text-align: right;\">\n",
       "      <th></th>\n",
       "      <th>Date</th>\n",
       "      <th>Open</th>\n",
       "      <th>High</th>\n",
       "      <th>Low</th>\n",
       "      <th>Close</th>\n",
       "      <th>Adj Close</th>\n",
       "      <th>Volume</th>\n",
       "    </tr>\n",
       "  </thead>\n",
       "  <tbody>\n",
       "    <tr>\n",
       "      <th>0</th>\n",
       "      <td>2010-01-04</td>\n",
       "      <td>1116.560059</td>\n",
       "      <td>1133.869995</td>\n",
       "      <td>1116.560059</td>\n",
       "      <td>1132.989990</td>\n",
       "      <td>1132.989990</td>\n",
       "      <td>3991400000</td>\n",
       "    </tr>\n",
       "    <tr>\n",
       "      <th>1</th>\n",
       "      <td>2010-01-05</td>\n",
       "      <td>1132.660034</td>\n",
       "      <td>1136.630005</td>\n",
       "      <td>1129.660034</td>\n",
       "      <td>1136.520020</td>\n",
       "      <td>1136.520020</td>\n",
       "      <td>2491020000</td>\n",
       "    </tr>\n",
       "    <tr>\n",
       "      <th>2</th>\n",
       "      <td>2010-01-06</td>\n",
       "      <td>1135.709961</td>\n",
       "      <td>1139.189941</td>\n",
       "      <td>1133.949951</td>\n",
       "      <td>1137.140015</td>\n",
       "      <td>1137.140015</td>\n",
       "      <td>4972660000</td>\n",
       "    </tr>\n",
       "    <tr>\n",
       "      <th>3</th>\n",
       "      <td>2010-01-07</td>\n",
       "      <td>1136.270020</td>\n",
       "      <td>1142.459961</td>\n",
       "      <td>1131.319946</td>\n",
       "      <td>1141.689941</td>\n",
       "      <td>1141.689941</td>\n",
       "      <td>5270680000</td>\n",
       "    </tr>\n",
       "    <tr>\n",
       "      <th>4</th>\n",
       "      <td>2010-01-08</td>\n",
       "      <td>1140.520020</td>\n",
       "      <td>1145.390015</td>\n",
       "      <td>1136.219971</td>\n",
       "      <td>1144.979980</td>\n",
       "      <td>1144.979980</td>\n",
       "      <td>4389590000</td>\n",
       "    </tr>\n",
       "    <tr>\n",
       "      <th>...</th>\n",
       "      <td>...</td>\n",
       "      <td>...</td>\n",
       "      <td>...</td>\n",
       "      <td>...</td>\n",
       "      <td>...</td>\n",
       "      <td>...</td>\n",
       "      <td>...</td>\n",
       "    </tr>\n",
       "    <tr>\n",
       "      <th>3464</th>\n",
       "      <td>2023-10-09</td>\n",
       "      <td>4289.020020</td>\n",
       "      <td>4341.729980</td>\n",
       "      <td>4283.790039</td>\n",
       "      <td>4335.660156</td>\n",
       "      <td>4335.660156</td>\n",
       "      <td>3174630000</td>\n",
       "    </tr>\n",
       "    <tr>\n",
       "      <th>3465</th>\n",
       "      <td>2023-10-10</td>\n",
       "      <td>4339.750000</td>\n",
       "      <td>4385.459961</td>\n",
       "      <td>4339.640137</td>\n",
       "      <td>4358.240234</td>\n",
       "      <td>4358.240234</td>\n",
       "      <td>3520240000</td>\n",
       "    </tr>\n",
       "    <tr>\n",
       "      <th>3466</th>\n",
       "      <td>2023-10-11</td>\n",
       "      <td>4366.589844</td>\n",
       "      <td>4378.640137</td>\n",
       "      <td>4345.339844</td>\n",
       "      <td>4376.950195</td>\n",
       "      <td>4376.950195</td>\n",
       "      <td>3601660000</td>\n",
       "    </tr>\n",
       "    <tr>\n",
       "      <th>3467</th>\n",
       "      <td>2023-10-12</td>\n",
       "      <td>4380.939941</td>\n",
       "      <td>4385.850098</td>\n",
       "      <td>4325.430176</td>\n",
       "      <td>4349.609863</td>\n",
       "      <td>4349.609863</td>\n",
       "      <td>3713140000</td>\n",
       "    </tr>\n",
       "    <tr>\n",
       "      <th>3468</th>\n",
       "      <td>2023-10-13</td>\n",
       "      <td>4360.490234</td>\n",
       "      <td>4377.100098</td>\n",
       "      <td>4311.970215</td>\n",
       "      <td>4327.779785</td>\n",
       "      <td>4327.779785</td>\n",
       "      <td>0</td>\n",
       "    </tr>\n",
       "  </tbody>\n",
       "</table>\n",
       "<p>3469 rows × 7 columns</p>\n",
       "</div>"
      ],
      "text/plain": [
       "           Date         Open         High          Low        Close  \\\n",
       "0    2010-01-04  1116.560059  1133.869995  1116.560059  1132.989990   \n",
       "1    2010-01-05  1132.660034  1136.630005  1129.660034  1136.520020   \n",
       "2    2010-01-06  1135.709961  1139.189941  1133.949951  1137.140015   \n",
       "3    2010-01-07  1136.270020  1142.459961  1131.319946  1141.689941   \n",
       "4    2010-01-08  1140.520020  1145.390015  1136.219971  1144.979980   \n",
       "...         ...          ...          ...          ...          ...   \n",
       "3464 2023-10-09  4289.020020  4341.729980  4283.790039  4335.660156   \n",
       "3465 2023-10-10  4339.750000  4385.459961  4339.640137  4358.240234   \n",
       "3466 2023-10-11  4366.589844  4378.640137  4345.339844  4376.950195   \n",
       "3467 2023-10-12  4380.939941  4385.850098  4325.430176  4349.609863   \n",
       "3468 2023-10-13  4360.490234  4377.100098  4311.970215  4327.779785   \n",
       "\n",
       "        Adj Close      Volume  \n",
       "0     1132.989990  3991400000  \n",
       "1     1136.520020  2491020000  \n",
       "2     1137.140015  4972660000  \n",
       "3     1141.689941  5270680000  \n",
       "4     1144.979980  4389590000  \n",
       "...           ...         ...  \n",
       "3464  4335.660156  3174630000  \n",
       "3465  4358.240234  3520240000  \n",
       "3466  4376.950195  3601660000  \n",
       "3467  4349.609863  3713140000  \n",
       "3468  4327.779785           0  \n",
       "\n",
       "[3469 rows x 7 columns]"
      ]
     },
     "execution_count": 14,
     "metadata": {},
     "output_type": "execute_result"
    }
   ],
   "source": [
    "SnP500"
   ]
  },
  {
   "cell_type": "code",
   "execution_count": 15,
   "id": "0d0b6a8b",
   "metadata": {},
   "outputs": [
    {
     "data": {
      "text/html": [
       "<div>\n",
       "<style scoped>\n",
       "    .dataframe tbody tr th:only-of-type {\n",
       "        vertical-align: middle;\n",
       "    }\n",
       "\n",
       "    .dataframe tbody tr th {\n",
       "        vertical-align: top;\n",
       "    }\n",
       "\n",
       "    .dataframe thead th {\n",
       "        text-align: right;\n",
       "    }\n",
       "</style>\n",
       "<table border=\"1\" class=\"dataframe\">\n",
       "  <thead>\n",
       "    <tr style=\"text-align: right;\">\n",
       "      <th></th>\n",
       "      <th>Date</th>\n",
       "      <th>Open</th>\n",
       "      <th>High</th>\n",
       "      <th>Low</th>\n",
       "      <th>Close</th>\n",
       "      <th>Adj Close</th>\n",
       "      <th>Volume</th>\n",
       "    </tr>\n",
       "  </thead>\n",
       "  <tbody>\n",
       "    <tr>\n",
       "      <th>0</th>\n",
       "      <td>2010-01-04</td>\n",
       "      <td>2294.409912</td>\n",
       "      <td>2311.149902</td>\n",
       "      <td>2294.409912</td>\n",
       "      <td>2308.419922</td>\n",
       "      <td>2308.419922</td>\n",
       "      <td>1931380000</td>\n",
       "    </tr>\n",
       "    <tr>\n",
       "      <th>1</th>\n",
       "      <td>2010-01-05</td>\n",
       "      <td>2307.270020</td>\n",
       "      <td>2313.729980</td>\n",
       "      <td>2295.620117</td>\n",
       "      <td>2308.709961</td>\n",
       "      <td>2308.709961</td>\n",
       "      <td>2367860000</td>\n",
       "    </tr>\n",
       "    <tr>\n",
       "      <th>2</th>\n",
       "      <td>2010-01-06</td>\n",
       "      <td>2307.709961</td>\n",
       "      <td>2314.070068</td>\n",
       "      <td>2295.679932</td>\n",
       "      <td>2301.090088</td>\n",
       "      <td>2301.090088</td>\n",
       "      <td>2253340000</td>\n",
       "    </tr>\n",
       "    <tr>\n",
       "      <th>3</th>\n",
       "      <td>2010-01-07</td>\n",
       "      <td>2298.090088</td>\n",
       "      <td>2301.300049</td>\n",
       "      <td>2285.219971</td>\n",
       "      <td>2300.050049</td>\n",
       "      <td>2300.050049</td>\n",
       "      <td>2270050000</td>\n",
       "    </tr>\n",
       "    <tr>\n",
       "      <th>4</th>\n",
       "      <td>2010-01-08</td>\n",
       "      <td>2292.239990</td>\n",
       "      <td>2317.600098</td>\n",
       "      <td>2290.610107</td>\n",
       "      <td>2317.169922</td>\n",
       "      <td>2317.169922</td>\n",
       "      <td>2145390000</td>\n",
       "    </tr>\n",
       "  </tbody>\n",
       "</table>\n",
       "</div>"
      ],
      "text/plain": [
       "        Date         Open         High          Low        Close    Adj Close  \\\n",
       "0 2010-01-04  2294.409912  2311.149902  2294.409912  2308.419922  2308.419922   \n",
       "1 2010-01-05  2307.270020  2313.729980  2295.620117  2308.709961  2308.709961   \n",
       "2 2010-01-06  2307.709961  2314.070068  2295.679932  2301.090088  2301.090088   \n",
       "3 2010-01-07  2298.090088  2301.300049  2285.219971  2300.050049  2300.050049   \n",
       "4 2010-01-08  2292.239990  2317.600098  2290.610107  2317.169922  2317.169922   \n",
       "\n",
       "       Volume  \n",
       "0  1931380000  \n",
       "1  2367860000  \n",
       "2  2253340000  \n",
       "3  2270050000  \n",
       "4  2145390000  "
      ]
     },
     "execution_count": 15,
     "metadata": {},
     "output_type": "execute_result"
    }
   ],
   "source": [
    "NASDAQ.head()"
   ]
  },
  {
   "cell_type": "code",
   "execution_count": 16,
   "id": "ff708a59",
   "metadata": {},
   "outputs": [],
   "source": [
    "NYSE = NYSE.drop(['Date', 'Adj Close'], axis = 1)\n",
    "NASDAQ = NASDAQ.drop(['Date', 'Adj Close'], axis = 1)\n",
    "SnP500 = SnP500.drop(['Date', 'Adj Close'], axis = 1)\n",
    "NIFTY = NIFTY.drop(['Date', 'Adj Close'], axis = 1)"
   ]
  },
  {
   "cell_type": "code",
   "execution_count": 17,
   "id": "42968f1b",
   "metadata": {},
   "outputs": [
    {
     "data": {
      "text/html": [
       "<div>\n",
       "<style scoped>\n",
       "    .dataframe tbody tr th:only-of-type {\n",
       "        vertical-align: middle;\n",
       "    }\n",
       "\n",
       "    .dataframe tbody tr th {\n",
       "        vertical-align: top;\n",
       "    }\n",
       "\n",
       "    .dataframe thead th {\n",
       "        text-align: right;\n",
       "    }\n",
       "</style>\n",
       "<table border=\"1\" class=\"dataframe\">\n",
       "  <thead>\n",
       "    <tr style=\"text-align: right;\">\n",
       "      <th></th>\n",
       "      <th>Open</th>\n",
       "      <th>High</th>\n",
       "      <th>Low</th>\n",
       "      <th>Close</th>\n",
       "      <th>Volume</th>\n",
       "    </tr>\n",
       "  </thead>\n",
       "  <tbody>\n",
       "    <tr>\n",
       "      <th>0</th>\n",
       "      <td>5200.899902</td>\n",
       "      <td>5238.450195</td>\n",
       "      <td>5167.100098</td>\n",
       "      <td>5232.200195</td>\n",
       "      <td>0</td>\n",
       "    </tr>\n",
       "    <tr>\n",
       "      <th>1</th>\n",
       "      <td>5277.149902</td>\n",
       "      <td>5288.350098</td>\n",
       "      <td>5242.399902</td>\n",
       "      <td>5277.899902</td>\n",
       "      <td>0</td>\n",
       "    </tr>\n",
       "    <tr>\n",
       "      <th>2</th>\n",
       "      <td>5278.149902</td>\n",
       "      <td>5310.850098</td>\n",
       "      <td>5260.049805</td>\n",
       "      <td>5281.799805</td>\n",
       "      <td>0</td>\n",
       "    </tr>\n",
       "    <tr>\n",
       "      <th>3</th>\n",
       "      <td>5281.799805</td>\n",
       "      <td>5302.549805</td>\n",
       "      <td>5244.750000</td>\n",
       "      <td>5263.100098</td>\n",
       "      <td>0</td>\n",
       "    </tr>\n",
       "    <tr>\n",
       "      <th>4</th>\n",
       "      <td>5264.250000</td>\n",
       "      <td>5276.750000</td>\n",
       "      <td>5234.700195</td>\n",
       "      <td>5244.750000</td>\n",
       "      <td>0</td>\n",
       "    </tr>\n",
       "  </tbody>\n",
       "</table>\n",
       "</div>"
      ],
      "text/plain": [
       "          Open         High          Low        Close  Volume\n",
       "0  5200.899902  5238.450195  5167.100098  5232.200195       0\n",
       "1  5277.149902  5288.350098  5242.399902  5277.899902       0\n",
       "2  5278.149902  5310.850098  5260.049805  5281.799805       0\n",
       "3  5281.799805  5302.549805  5244.750000  5263.100098       0\n",
       "4  5264.250000  5276.750000  5234.700195  5244.750000       0"
      ]
     },
     "execution_count": 17,
     "metadata": {},
     "output_type": "execute_result"
    }
   ],
   "source": [
    "NIFTY.head()"
   ]
  },
  {
   "cell_type": "code",
   "execution_count": 18,
   "id": "074b08e7",
   "metadata": {},
   "outputs": [
    {
     "data": {
      "text/plain": [
       "[<matplotlib.lines.Line2D at 0x1ecc0086490>]"
      ]
     },
     "execution_count": 18,
     "metadata": {},
     "output_type": "execute_result"
    },
    {
     "data": {
      "image/png": "[encoded data removed]",
      "text/plain": [
       "<Figure size 640x480 with 1 Axes>"
      ]
     },
     "metadata": {},
     "output_type": "display_data"
    }
   ],
   "source": [
    "plt.plot(NIFTY.Close)"
   ]
  },
  {
   "cell_type": "code",
   "execution_count": 19,
   "id": "b7a6c2fb",
   "metadata": {},
   "outputs": [],
   "source": [
    "NYSE_ma100 = NYSE.Close.rolling(100).mean()\n",
    "NIFTY_ma100 = NIFTY.Close.rolling(100).mean()\n",
    "SnP500_ma100 = SnP500.Close.rolling(100).mean()\n",
    "NASDAQ_ma100 = NASDAQ.Close.rolling(100).mean()"
   ]
  },
  {
   "cell_type": "code",
   "execution_count": 20,
   "id": "b7a2c1df",
   "metadata": {},
   "outputs": [
    {
     "data": {
      "text/plain": [
       "0                NaN\n",
       "1                NaN\n",
       "2                NaN\n",
       "3                NaN\n",
       "4                NaN\n",
       "            ...     \n",
       "3464    15745.340264\n",
       "3465    15746.703467\n",
       "3466    15748.126973\n",
       "3467    15748.179268\n",
       "3468    15748.227773\n",
       "Name: Close, Length: 3469, dtype: float64"
      ]
     },
     "execution_count": 20,
     "metadata": {},
     "output_type": "execute_result"
    }
   ],
   "source": [
    "NYSE_ma100"
   ]
  },
  {
   "cell_type": "code",
   "execution_count": 21,
   "id": "99bbf36c",
   "metadata": {},
   "outputs": [
    {
     "data": {
      "text/plain": [
       "[<matplotlib.lines.Line2D at 0x1ecc0157590>]"
      ]
     },
     "execution_count": 21,
     "metadata": {},
     "output_type": "execute_result"
    },
    {
     "data": {
      "image/png": "[encoded data removed]",
      "text/plain": [
       "<Figure size 1200x600 with 1 Axes>"
      ]
     },
     "metadata": {},
     "output_type": "display_data"
    }
   ],
   "source": [
    "plt.figure(figsize=(12,6))\n",
    "plt.plot(NYSE.Close)\n",
    "plt.plot(NYSE_ma100, 'r')"
   ]
  },
  {
   "cell_type": "code",
   "execution_count": 22,
   "id": "598ca1f7",
   "metadata": {},
   "outputs": [],
   "source": [
    "NYSE_ma200 = NYSE.Close.rolling(200).mean()\n",
    "NIFTY_ma200 = NIFTY.Close.rolling(200).mean()\n",
    "SnP500_ma200 = SnP500.Close.rolling(200).mean()\n",
    "NASDAQ_ma200 = NASDAQ.Close.rolling(200).mean()"
   ]
  },
  {
   "cell_type": "code",
   "execution_count": 23,
   "id": "f18fa36c",
   "metadata": {},
   "outputs": [
    {
     "data": {
      "text/plain": [
       "[<matplotlib.lines.Line2D at 0x1ecc0217450>]"
      ]
     },
     "execution_count": 23,
     "metadata": {},
     "output_type": "execute_result"
    },
    {
     "data": {
      "image/png": "[encoded data removed]",
      "text/plain": [
       "<Figure size 1200x600 with 1 Axes>"
      ]
     },
     "metadata": {},
     "output_type": "display_data"
    }
   ],
   "source": [
    "plt.figure(figsize=(12,6))\n",
    "plt.plot(NYSE.Close)\n",
    "plt.plot(NYSE_ma100, 'r')\n",
    "plt.plot(NYSE_ma200, 'g')"
   ]
  },
  {
   "cell_type": "code",
   "execution_count": 24,
   "id": "819990d3",
   "metadata": {},
   "outputs": [
    {
     "data": {
      "text/plain": [
       "(3469, 5)"
      ]
     },
     "execution_count": 24,
     "metadata": {},
     "output_type": "execute_result"
    }
   ],
   "source": [
    "NYSE.shape"
   ]
  },
  {
   "cell_type": "code",
   "execution_count": 27,
   "id": "d0ee9065",
   "metadata": {},
   "outputs": [
    {
     "name": "stdout",
     "output_type": "stream",
     "text": [
      "NYSE :  (2428, 1)\n",
      "NYSE :  (1041, 1)\n"
     ]
    }
   ],
   "source": [
    "# Splitting Data into Training and Testing\n",
    "NYSE_data_training = pd.DataFrame(NYSE['Close'][0:int(len(NYSE)*0.70)])\n",
    "NYSE_data_testing = pd.DataFrame(NYSE['Close'][int(len(NYSE)*0.70):])\n",
    "\n",
    "NASDAQ_data_training = pd.DataFrame(NASDAQ['Close'][0:int(len(NASDAQ)*0.70)])\n",
    "NASDAQ_data_testing = pd.DataFrame(NASDAQ['Close'][int(len(NASDAQ)*0.70):])\n",
    "\n",
    "NIFTY_data_training = pd.DataFrame(NIFTY['Close'][0:int(len(NIFTY)*0.70)])\n",
    "NIFTY_data_testing = pd.DataFrame(NIFTY['Close'][int(len(NIFTY)*0.70):])\n",
    "\n",
    "SnP_data_training = pd.DataFrame(SnP500['Close'][0:int(len(SnP500)*0.70)])\n",
    "SnP_data_testing = pd.DataFrame(SnP500['Close'][int(len(SnP500)*0.70):])\n",
    "\n",
    "print(\"NYSE : \" , NYSE_data_training.shape)\n",
    "print(\"NYSE : \" , NYSE_data_testing.shape)"
   ]
  },
  {
   "cell_type": "code",
   "execution_count": 28,
   "id": "c90b6897",
   "metadata": {},
   "outputs": [
    {
     "data": {
      "text/html": [
       "<div>\n",
       "<style scoped>\n",
       "    .dataframe tbody tr th:only-of-type {\n",
       "        vertical-align: middle;\n",
       "    }\n",
       "\n",
       "    .dataframe tbody tr th {\n",
       "        vertical-align: top;\n",
       "    }\n",
       "\n",
       "    .dataframe thead th {\n",
       "        text-align: right;\n",
       "    }\n",
       "</style>\n",
       "<table border=\"1\" class=\"dataframe\">\n",
       "  <thead>\n",
       "    <tr style=\"text-align: right;\">\n",
       "      <th></th>\n",
       "      <th>Close</th>\n",
       "    </tr>\n",
       "  </thead>\n",
       "  <tbody>\n",
       "    <tr>\n",
       "      <th>0</th>\n",
       "      <td>7326.740234</td>\n",
       "    </tr>\n",
       "    <tr>\n",
       "      <th>1</th>\n",
       "      <td>7354.870117</td>\n",
       "    </tr>\n",
       "    <tr>\n",
       "      <th>2</th>\n",
       "      <td>7377.700195</td>\n",
       "    </tr>\n",
       "    <tr>\n",
       "      <th>3</th>\n",
       "      <td>7393.930176</td>\n",
       "    </tr>\n",
       "    <tr>\n",
       "      <th>4</th>\n",
       "      <td>7425.350098</td>\n",
       "    </tr>\n",
       "  </tbody>\n",
       "</table>\n",
       "</div>"
      ],
      "text/plain": [
       "         Close\n",
       "0  7326.740234\n",
       "1  7354.870117\n",
       "2  7377.700195\n",
       "3  7393.930176\n",
       "4  7425.350098"
      ]
     },
     "execution_count": 28,
     "metadata": {},
     "output_type": "execute_result"
    }
   ],
   "source": [
    "NYSE_data_training.head()"
   ]
  },
  {
   "cell_type": "code",
   "execution_count": 29,
   "id": "ad130fce",
   "metadata": {},
   "outputs": [
    {
     "data": {
      "text/html": [
       "<div>\n",
       "<style scoped>\n",
       "    .dataframe tbody tr th:only-of-type {\n",
       "        vertical-align: middle;\n",
       "    }\n",
       "\n",
       "    .dataframe tbody tr th {\n",
       "        vertical-align: top;\n",
       "    }\n",
       "\n",
       "    .dataframe thead th {\n",
       "        text-align: right;\n",
       "    }\n",
       "</style>\n",
       "<table border=\"1\" class=\"dataframe\">\n",
       "  <thead>\n",
       "    <tr style=\"text-align: right;\">\n",
       "      <th></th>\n",
       "      <th>Close</th>\n",
       "    </tr>\n",
       "  </thead>\n",
       "  <tbody>\n",
       "    <tr>\n",
       "      <th>2428</th>\n",
       "      <td>12474.049805</td>\n",
       "    </tr>\n",
       "    <tr>\n",
       "      <th>2429</th>\n",
       "      <td>12559.230469</td>\n",
       "    </tr>\n",
       "    <tr>\n",
       "      <th>2430</th>\n",
       "      <td>12704.030273</td>\n",
       "    </tr>\n",
       "    <tr>\n",
       "      <th>2431</th>\n",
       "      <td>12736.879883</td>\n",
       "    </tr>\n",
       "    <tr>\n",
       "      <th>2432</th>\n",
       "      <td>12663.400391</td>\n",
       "    </tr>\n",
       "  </tbody>\n",
       "</table>\n",
       "</div>"
      ],
      "text/plain": [
       "             Close\n",
       "2428  12474.049805\n",
       "2429  12559.230469\n",
       "2430  12704.030273\n",
       "2431  12736.879883\n",
       "2432  12663.400391"
      ]
     },
     "execution_count": 29,
     "metadata": {},
     "output_type": "execute_result"
    }
   ],
   "source": [
    "NYSE_data_testing.head()"
   ]
  },
  {
   "cell_type": "code",
   "execution_count": 33,
   "id": "7ebe3993",
   "metadata": {},
   "outputs": [],
   "source": [
    "from sklearn.preprocessing import MinMaxScaler"
   ]
  },
  {
   "cell_type": "code",
   "execution_count": 34,
   "id": "1b43ae4d",
   "metadata": {},
   "outputs": [],
   "source": [
    "NYSE_scaler = MinMaxScaler(feature_range=(0,1))\n",
    "NASDAQ_scaler = MinMaxScaler(feature_range=(0,1))\n",
    "NIFTY_scaler = MinMaxScaler(feature_range=(0,1))\n",
    "SnP500_scaler = MinMaxScaler(feature_range=(0,1))"
   ]
  },
  {
   "cell_type": "code",
   "execution_count": 35,
   "id": "9b72fb2e",
   "metadata": {},
   "outputs": [
    {
     "data": {
      "text/plain": [
       "array([[0.12384119],\n",
       "       [0.12774692],\n",
       "       [0.13091679],\n",
       "       ...,\n",
       "       [0.86829603],\n",
       "       [0.83052849],\n",
       "       [0.84485325]])"
      ]
     },
     "execution_count": 35,
     "metadata": {},
     "output_type": "execute_result"
    }
   ],
   "source": [
    "NYSE_data_training_array = NYSE_scaler.fit_transform(NYSE_data_training)\n",
    "NASDAQ_data_training_array = NASDAQ_scaler.fit_transform(NASDAQ_data_training)\n",
    "SnP500_data_training_array = SnP500_scaler.fit_transform(SnP_data_training)\n",
    "NIFTY_data_training_array = NIFTY_scaler.fit_transform(NIFTY_data_training)\n",
    "\n",
    "NYSE_data_training_array"
   ]
  },
  {
   "cell_type": "code",
   "execution_count": 36,
   "id": "2a977c7b",
   "metadata": {},
   "outputs": [
    {
     "data": {
      "text/plain": [
       "(2428, 1)"
      ]
     },
     "execution_count": 36,
     "metadata": {},
     "output_type": "execute_result"
    }
   ],
   "source": [
    "NYSE_data_training_array.shape"
   ]
  },
  {
   "cell_type": "code",
   "execution_count": 37,
   "id": "6c3f0b81",
   "metadata": {},
   "outputs": [],
   "source": [
    "NYSE_x_train = []\n",
    "NYSE_y_train = []\n",
    "\n",
    "for i in range(100, NYSE_data_training_array.shape[0]):\n",
    "    NYSE_x_train.append(NYSE_data_training_array[i-100:i])\n",
    "    NYSE_y_train.append(NYSE_data_training_array[i,0])\n",
    "\n",
    "NASDAQ_x_train = []\n",
    "NASDAQ_y_train = []\n",
    "\n",
    "for i in range(100, NASDAQ_data_training_array.shape[0]):\n",
    "    NASDAQ_x_train.append(NASDAQ_data_training_array[i-100:i])\n",
    "    NASDAQ_y_train.append(NASDAQ_data_training_array[i,0])\n",
    "\n",
    "NIFTY_x_train = []\n",
    "NIFTY_y_train = []\n",
    "\n",
    "for i in range(100, NIFTY_data_training_array.shape[0]):\n",
    "    NIFTY_x_train.append(NIFTY_data_training_array[i-100:i])\n",
    "    NIFTY_y_train.append(NIFTY_data_training_array[i,0])\n",
    "\n",
    "SnP_x_train = []\n",
    "SnP_y_train = []\n",
    "\n",
    "for i in range(100, SnP500_data_training_array.shape[0]):\n",
    "    SnP_x_train.append(SnP500_data_training_array[i-100:i])\n",
    "    SnP_y_train.append(SnP500_data_training_array[i,0])"
   ]
  },
  {
   "cell_type": "code",
   "execution_count": 39,
   "id": "68908a3a",
   "metadata": {},
   "outputs": [],
   "source": [
    "NYSE_x_train, NYSE_y_train = np.array(NYSE_x_train), np.array(NYSE_y_train)\n",
    "NASDAQ_x_train, NASDAQ_y_train = np.array(NASDAQ_x_train), np.array(NASDAQ_y_train)\n",
    "NIFTY_x_train, NIFTY_y_train = np.array(NIFTY_x_train), np.array(NIFTY_y_train)\n",
    "SnP_x_train, SnP_y_train = np.array(SnP_x_train), np.array(SnP_y_train)"
   ]
  },
  {
   "cell_type": "markdown",
   "id": "7fdd6935",
   "metadata": {},
   "source": [
    "## ML Model"
   ]
  },
  {
   "cell_type": "code",
   "execution_count": 40,
   "id": "c78ddaf1",
   "metadata": {},
   "outputs": [],
   "source": [
    "from tensorflow.keras.layers import Dense, LSTM, Dropout\n",
    "from tensorflow.keras.models import Sequential"
   ]
  },
  {
   "cell_type": "code",
   "execution_count": 52,
   "id": "2fdd481e",
   "metadata": {},
   "outputs": [],
   "source": [
    "NYSE_model = Sequential()\n",
    "NYSE_model.add(LSTM(units=50, activation='relu',return_sequences=True,\n",
    "              input_shape=(NYSE_x_train.shape[1],1)))\n",
    "NYSE_model.add(Dropout(0.2))\n",
    "\n",
    "NYSE_model.add(LSTM(units=65, activation='relu',return_sequences=True))\n",
    "NYSE_model.add(Dropout(0.3))\n",
    "\n",
    "NYSE_model.add(LSTM(units=85, activation='relu',return_sequences=True))\n",
    "NYSE_model.add(Dropout(0.4))\n",
    "\n",
    "NYSE_model.add(LSTM(units=120, activation='relu'))\n",
    "NYSE_model.add(Dropout(0.5))\n",
    "\n",
    "NYSE_model.add(Dense(units = 1))"
   ]
  },
  {
   "cell_type": "code",
   "execution_count": 53,
   "id": "919749f7",
   "metadata": {},
   "outputs": [],
   "source": [
    "NIFTY_model = Sequential()\n",
    "NIFTY_model.add(LSTM(units=50, activation='relu',return_sequences=True,\n",
    "              input_shape=(NIFTY_x_train.shape[1],1)))\n",
    "NIFTY_model.add(Dropout(0.2))\n",
    "\n",
    "NIFTY_model.add(LSTM(units=65, activation='relu',return_sequences=True))\n",
    "NIFTY_model.add(Dropout(0.3))\n",
    "\n",
    "NIFTY_model.add(LSTM(units=85, activation='relu',return_sequences=True))\n",
    "NIFTY_model.add(Dropout(0.4))\n",
    "\n",
    "NIFTY_model.add(LSTM(units=120, activation='relu'))\n",
    "NIFTY_model.add(Dropout(0.5))\n",
    "\n",
    "NIFTY_model.add(Dense(units = 1))"
   ]
  },
  {
   "cell_type": "code",
   "execution_count": 54,
   "id": "8a0fbd46",
   "metadata": {},
   "outputs": [],
   "source": [
    "SnP_model = Sequential()\n",
    "SnP_model.add(LSTM(units=50, activation='relu',return_sequences=True,\n",
    "              input_shape=(SnP_x_train.shape[1],1)))\n",
    "SnP_model.add(Dropout(0.2))\n",
    "\n",
    "SnP_model.add(LSTM(units=65, activation='relu',return_sequences=True))\n",
    "SnP_model.add(Dropout(0.3))\n",
    "\n",
    "SnP_model.add(LSTM(units=85, activation='relu',return_sequences=True))\n",
    "SnP_model.add(Dropout(0.4))\n",
    "\n",
    "SnP_model.add(LSTM(units=120, activation='relu'))\n",
    "SnP_model.add(Dropout(0.5))\n",
    "\n",
    "SnP_model.add(Dense(units = 1))"
   ]
  },
  {
   "cell_type": "code",
   "execution_count": 55,
   "id": "21c66bd0",
   "metadata": {},
   "outputs": [],
   "source": [
    "NASDAQ_model = Sequential()\n",
    "NASDAQ_model.add(LSTM(units=50, activation='relu',return_sequences=True,\n",
    "              input_shape=(NASDAQ_x_train.shape[1],1)))\n",
    "NASDAQ_model.add(Dropout(0.2))\n",
    "\n",
    "NASDAQ_model.add(LSTM(units=65, activation='relu',return_sequences=True))\n",
    "NASDAQ_model.add(Dropout(0.3))\n",
    "\n",
    "NASDAQ_model.add(LSTM(units=85, activation='relu',return_sequences=True))\n",
    "NASDAQ_model.add(Dropout(0.4))\n",
    "\n",
    "NASDAQ_model.add(LSTM(units=120, activation='relu'))\n",
    "NASDAQ_model.add(Dropout(0.5))\n",
    "\n",
    "NASDAQ_model.add(Dense(units = 1))"
   ]
  },
  {
   "cell_type": "code",
   "execution_count": 56,
   "id": "f6ad5c1b",
   "metadata": {},
   "outputs": [
    {
     "name": "stdout",
     "output_type": "stream",
     "text": [
      "Model: \"sequential_7\"\n",
      "_________________________________________________________________\n",
      " Layer (type)                Output Shape              Param #   \n",
      "=================================================================\n",
      " lstm_22 (LSTM)              (None, 100, 50)           10400     \n",
      "                                                                 \n",
      " dropout_21 (Dropout)        (None, 100, 50)           0         \n",
      "                                                                 \n",
      " lstm_23 (LSTM)              (None, 100, 65)           30160     \n",
      "                                                                 \n",
      " dropout_22 (Dropout)        (None, 100, 65)           0         \n",
      "                                                                 \n",
      " lstm_24 (LSTM)              (None, 100, 85)           51340     \n",
      "                                                                 \n",
      " dropout_23 (Dropout)        (None, 100, 85)           0         \n",
      "                                                                 \n",
      " lstm_25 (LSTM)              (None, 120)               98880     \n",
      "                                                                 \n",
      " dropout_24 (Dropout)        (None, 120)               0         \n",
      "                                                                 \n",
      " dense_5 (Dense)             (None, 1)                 121       \n",
      "                                                                 \n",
      "=================================================================\n",
      "Total params: 190901 (745.71 KB)\n",
      "Trainable params: 190901 (745.71 KB)\n",
      "Non-trainable params: 0 (0.00 Byte)\n",
      "_________________________________________________________________\n",
      "Model: \"sequential_10\"\n",
      "_________________________________________________________________\n",
      " Layer (type)                Output Shape              Param #   \n",
      "=================================================================\n",
      " lstm_34 (LSTM)              (None, 100, 50)           10400     \n",
      "                                                                 \n",
      " dropout_33 (Dropout)        (None, 100, 50)           0         \n",
      "                                                                 \n",
      " lstm_35 (LSTM)              (None, 100, 65)           30160     \n",
      "                                                                 \n",
      " dropout_34 (Dropout)        (None, 100, 65)           0         \n",
      "                                                                 \n",
      " lstm_36 (LSTM)              (None, 100, 85)           51340     \n",
      "                                                                 \n",
      " dropout_35 (Dropout)        (None, 100, 85)           0         \n",
      "                                                                 \n",
      " lstm_37 (LSTM)              (None, 120)               98880     \n",
      "                                                                 \n",
      " dropout_36 (Dropout)        (None, 120)               0         \n",
      "                                                                 \n",
      " dense_8 (Dense)             (None, 1)                 121       \n",
      "                                                                 \n",
      "=================================================================\n",
      "Total params: 190901 (745.71 KB)\n",
      "Trainable params: 190901 (745.71 KB)\n",
      "Non-trainable params: 0 (0.00 Byte)\n",
      "_________________________________________________________________\n",
      "Model: \"sequential_9\"\n",
      "_________________________________________________________________\n",
      " Layer (type)                Output Shape              Param #   \n",
      "=================================================================\n",
      " lstm_30 (LSTM)              (None, 100, 50)           10400     \n",
      "                                                                 \n",
      " dropout_29 (Dropout)        (None, 100, 50)           0         \n",
      "                                                                 \n",
      " lstm_31 (LSTM)              (None, 100, 65)           30160     \n",
      "                                                                 \n",
      " dropout_30 (Dropout)        (None, 100, 65)           0         \n",
      "                                                                 \n",
      " lstm_32 (LSTM)              (None, 100, 85)           51340     \n",
      "                                                                 \n",
      " dropout_31 (Dropout)        (None, 100, 85)           0         \n",
      "                                                                 \n",
      " lstm_33 (LSTM)              (None, 120)               98880     \n",
      "                                                                 \n",
      " dropout_32 (Dropout)        (None, 120)               0         \n",
      "                                                                 \n",
      " dense_7 (Dense)             (None, 1)                 121       \n",
      "                                                                 \n",
      "=================================================================\n",
      "Total params: 190901 (745.71 KB)\n",
      "Trainable params: 190901 (745.71 KB)\n",
      "Non-trainable params: 0 (0.00 Byte)\n",
      "_________________________________________________________________\n",
      "Model: \"sequential_8\"\n",
      "_________________________________________________________________\n",
      " Layer (type)                Output Shape              Param #   \n",
      "=================================================================\n",
      " lstm_26 (LSTM)              (None, 100, 50)           10400     \n",
      "                                                                 \n",
      " dropout_25 (Dropout)        (None, 100, 50)           0         \n",
      "                                                                 \n",
      " lstm_27 (LSTM)              (None, 100, 65)           30160     \n",
      "                                                                 \n",
      " dropout_26 (Dropout)        (None, 100, 65)           0         \n",
      "                                                                 \n",
      " lstm_28 (LSTM)              (None, 100, 85)           51340     \n",
      "                                                                 \n",
      " dropout_27 (Dropout)        (None, 100, 85)           0         \n",
      "                                                                 \n",
      " lstm_29 (LSTM)              (None, 120)               98880     \n",
      "                                                                 \n",
      " dropout_28 (Dropout)        (None, 120)               0         \n",
      "                                                                 \n",
      " dense_6 (Dense)             (None, 1)                 121       \n",
      "                                                                 \n",
      "=================================================================\n",
      "Total params: 190901 (745.71 KB)\n",
      "Trainable params: 190901 (745.71 KB)\n",
      "Non-trainable params: 0 (0.00 Byte)\n",
      "_________________________________________________________________\n"
     ]
    }
   ],
   "source": [
    "NYSE_model.summary()\n",
    "NASDAQ_model.summary()\n",
    "SnP_model.summary()\n",
    "NIFTY_model.summary()"
   ]
  },
  {
   "cell_type": "code",
   "execution_count": 57,
   "id": "bf9e3cf1",
   "metadata": {},
   "outputs": [
    {
     "name": "stdout",
     "output_type": "stream",
     "text": [
      "Epoch 1/50\n",
      "73/73 [==============================] - 14s 143ms/step - loss: 0.0588\n",
      "Epoch 2/50\n",
      "73/73 [==============================] - 11s 150ms/step - loss: 0.0109\n",
      "Epoch 3/50\n",
      "73/73 [==============================] - 11s 151ms/step - loss: 0.0108\n",
      "Epoch 4/50\n",
      "73/73 [==============================] - 11s 147ms/step - loss: 0.0097\n",
      "Epoch 5/50\n",
      "73/73 [==============================] - 11s 148ms/step - loss: 0.0085\n",
      "Epoch 6/50\n",
      "73/73 [==============================] - 11s 146ms/step - loss: 0.0084\n",
      "Epoch 7/50\n",
      "73/73 [==============================] - 12s 167ms/step - loss: 0.0078\n",
      "Epoch 8/50\n",
      "73/73 [==============================] - 11s 145ms/step - loss: 0.0073\n",
      "Epoch 9/50\n",
      "73/73 [==============================] - 11s 145ms/step - loss: 0.0066\n",
      "Epoch 10/50\n",
      "73/73 [==============================] - 11s 147ms/step - loss: 0.0068\n",
      "Epoch 11/50\n",
      "73/73 [==============================] - 11s 145ms/step - loss: 0.0063\n",
      "Epoch 12/50\n",
      "73/73 [==============================] - 11s 150ms/step - loss: 0.0060\n",
      "Epoch 13/50\n",
      "73/73 [==============================] - 12s 159ms/step - loss: 0.0050\n",
      "Epoch 14/50\n",
      "73/73 [==============================] - 12s 166ms/step - loss: 0.0054\n",
      "Epoch 15/50\n",
      "73/73 [==============================] - 14s 198ms/step - loss: 0.0049\n",
      "Epoch 16/50\n",
      "73/73 [==============================] - 13s 178ms/step - loss: 0.0052\n",
      "Epoch 17/50\n",
      "73/73 [==============================] - 15s 210ms/step - loss: 0.0050\n",
      "Epoch 18/50\n",
      "73/73 [==============================] - 14s 186ms/step - loss: 0.0047\n",
      "Epoch 19/50\n",
      "73/73 [==============================] - 14s 190ms/step - loss: 0.0042\n",
      "Epoch 20/50\n",
      "73/73 [==============================] - 13s 175ms/step - loss: 0.0042\n",
      "Epoch 21/50\n",
      "73/73 [==============================] - 12s 164ms/step - loss: 0.0045\n",
      "Epoch 22/50\n",
      "73/73 [==============================] - 11s 155ms/step - loss: 0.0042\n",
      "Epoch 23/50\n",
      "73/73 [==============================] - 11s 156ms/step - loss: 0.0040\n",
      "Epoch 24/50\n",
      "73/73 [==============================] - 11s 152ms/step - loss: 0.0042\n",
      "Epoch 25/50\n",
      "73/73 [==============================] - 11s 155ms/step - loss: 0.0041\n",
      "Epoch 26/50\n",
      "73/73 [==============================] - 11s 154ms/step - loss: 0.0035\n",
      "Epoch 27/50\n",
      "73/73 [==============================] - 11s 154ms/step - loss: 0.0034\n",
      "Epoch 28/50\n",
      "73/73 [==============================] - 11s 153ms/step - loss: 0.0034\n",
      "Epoch 29/50\n",
      "73/73 [==============================] - 11s 155ms/step - loss: 0.0033\n",
      "Epoch 30/50\n",
      "73/73 [==============================] - 11s 153ms/step - loss: 0.0032\n",
      "Epoch 31/50\n",
      "73/73 [==============================] - 11s 154ms/step - loss: 0.0031\n",
      "Epoch 32/50\n",
      "73/73 [==============================] - 13s 176ms/step - loss: 0.0030\n",
      "Epoch 33/50\n",
      "73/73 [==============================] - 13s 174ms/step - loss: 0.0031\n",
      "Epoch 34/50\n",
      "73/73 [==============================] - 12s 163ms/step - loss: 0.0030\n",
      "Epoch 35/50\n",
      "73/73 [==============================] - 11s 154ms/step - loss: 0.0029\n",
      "Epoch 36/50\n",
      "73/73 [==============================] - 11s 156ms/step - loss: 0.0029\n",
      "Epoch 37/50\n",
      "73/73 [==============================] - 11s 155ms/step - loss: 0.0027\n",
      "Epoch 38/50\n",
      "73/73 [==============================] - 11s 154ms/step - loss: 0.0030\n",
      "Epoch 39/50\n",
      "73/73 [==============================] - 11s 156ms/step - loss: 0.0028\n",
      "Epoch 40/50\n",
      "73/73 [==============================] - 11s 157ms/step - loss: 0.0027\n",
      "Epoch 41/50\n",
      "73/73 [==============================] - 11s 157ms/step - loss: 0.0025\n",
      "Epoch 42/50\n",
      "73/73 [==============================] - 11s 155ms/step - loss: 0.0025\n",
      "Epoch 43/50\n",
      "73/73 [==============================] - 11s 155ms/step - loss: 0.0024\n",
      "Epoch 44/50\n",
      "73/73 [==============================] - 11s 157ms/step - loss: 0.0025\n",
      "Epoch 45/50\n",
      "73/73 [==============================] - 12s 158ms/step - loss: 0.0025\n",
      "Epoch 46/50\n",
      "73/73 [==============================] - 11s 155ms/step - loss: 0.0024\n",
      "Epoch 47/50\n",
      "73/73 [==============================] - 11s 155ms/step - loss: 0.0026\n",
      "Epoch 48/50\n",
      "73/73 [==============================] - 11s 156ms/step - loss: 0.0025\n",
      "Epoch 49/50\n",
      "73/73 [==============================] - 11s 154ms/step - loss: 0.0022\n",
      "Epoch 50/50\n",
      "73/73 [==============================] - 11s 155ms/step - loss: 0.0024\n"
     ]
    },
    {
     "data": {
      "text/plain": [
       "<keras.src.callbacks.History at 0x1ecdf4c3fd0>"
      ]
     },
     "execution_count": 57,
     "metadata": {},
     "output_type": "execute_result"
    }
   ],
   "source": [
    "NYSE_model.compile(optimizer='adam', loss='mean_squared_error')\n",
    "NYSE_model.fit(NYSE_x_train,NYSE_y_train,epochs=50)"
   ]
  },
  {
   "cell_type": "code",
   "execution_count": 58,
   "id": "4e48715b",
   "metadata": {},
   "outputs": [
    {
     "name": "stdout",
     "output_type": "stream",
     "text": [
      "Epoch 1/50\n",
      "73/73 [==============================] - 15s 157ms/step - loss: 0.0419\n",
      "Epoch 2/50\n",
      "73/73 [==============================] - 11s 153ms/step - loss: 0.0086\n",
      "Epoch 3/50\n",
      "73/73 [==============================] - 11s 153ms/step - loss: 0.0063\n",
      "Epoch 4/50\n",
      "73/73 [==============================] - 12s 166ms/step - loss: 0.0062\n",
      "Epoch 5/50\n",
      "73/73 [==============================] - 12s 161ms/step - loss: 0.0062\n",
      "Epoch 6/50\n",
      "73/73 [==============================] - 12s 167ms/step - loss: 0.0060\n",
      "Epoch 7/50\n",
      "73/73 [==============================] - 11s 156ms/step - loss: 0.0049\n",
      "Epoch 8/50\n",
      "73/73 [==============================] - 11s 154ms/step - loss: 0.0053\n",
      "Epoch 9/50\n",
      "73/73 [==============================] - 11s 153ms/step - loss: 0.0048\n",
      "Epoch 10/50\n",
      "73/73 [==============================] - 11s 153ms/step - loss: 0.0049\n",
      "Epoch 11/50\n",
      "73/73 [==============================] - 11s 155ms/step - loss: 0.0046\n",
      "Epoch 12/50\n",
      "73/73 [==============================] - 11s 154ms/step - loss: 0.0038\n",
      "Epoch 13/50\n",
      "73/73 [==============================] - 11s 154ms/step - loss: 0.0038\n",
      "Epoch 14/50\n",
      "73/73 [==============================] - 11s 153ms/step - loss: 0.0041\n",
      "Epoch 15/50\n",
      "73/73 [==============================] - 11s 152ms/step - loss: 0.0039\n",
      "Epoch 16/50\n",
      "73/73 [==============================] - 12s 165ms/step - loss: 0.0036\n",
      "Epoch 17/50\n",
      "73/73 [==============================] - 11s 150ms/step - loss: 0.0034\n",
      "Epoch 18/50\n",
      "73/73 [==============================] - 11s 157ms/step - loss: 0.0032\n",
      "Epoch 19/50\n",
      "73/73 [==============================] - 11s 152ms/step - loss: 0.0032\n",
      "Epoch 20/50\n",
      "73/73 [==============================] - 11s 148ms/step - loss: 0.0030\n",
      "Epoch 21/50\n",
      "73/73 [==============================] - 11s 151ms/step - loss: 0.0030\n",
      "Epoch 22/50\n",
      "73/73 [==============================] - 11s 149ms/step - loss: 0.0035\n",
      "Epoch 23/50\n",
      "73/73 [==============================] - 11s 148ms/step - loss: 0.0031\n",
      "Epoch 24/50\n",
      "73/73 [==============================] - 11s 149ms/step - loss: 0.0031\n",
      "Epoch 25/50\n",
      "73/73 [==============================] - 11s 152ms/step - loss: 0.0027\n",
      "Epoch 26/50\n",
      "73/73 [==============================] - 11s 147ms/step - loss: 0.0027\n",
      "Epoch 27/50\n",
      "73/73 [==============================] - 11s 150ms/step - loss: 0.0028\n",
      "Epoch 28/50\n",
      "73/73 [==============================] - 11s 154ms/step - loss: 0.0028\n",
      "Epoch 29/50\n",
      "73/73 [==============================] - 11s 156ms/step - loss: 0.0026\n",
      "Epoch 30/50\n",
      "73/73 [==============================] - 16s 215ms/step - loss: 0.0027\n",
      "Epoch 31/50\n",
      "73/73 [==============================] - 15s 207ms/step - loss: 0.0026\n",
      "Epoch 32/50\n",
      "73/73 [==============================] - 14s 190ms/step - loss: 0.0022\n",
      "Epoch 33/50\n",
      "73/73 [==============================] - 13s 183ms/step - loss: 0.0025\n",
      "Epoch 34/50\n",
      "73/73 [==============================] - 13s 179ms/step - loss: 0.0026\n",
      "Epoch 35/50\n",
      "73/73 [==============================] - 11s 155ms/step - loss: 0.0022\n",
      "Epoch 36/50\n",
      "73/73 [==============================] - 11s 154ms/step - loss: 0.0023\n",
      "Epoch 37/50\n",
      "73/73 [==============================] - 13s 172ms/step - loss: 0.0023\n",
      "Epoch 38/50\n",
      "73/73 [==============================] - 12s 159ms/step - loss: 0.0025\n",
      "Epoch 39/50\n",
      "73/73 [==============================] - 11s 156ms/step - loss: 0.0024\n",
      "Epoch 40/50\n",
      "73/73 [==============================] - 12s 160ms/step - loss: 0.0025\n",
      "Epoch 41/50\n",
      "73/73 [==============================] - 11s 152ms/step - loss: 0.0025\n",
      "Epoch 42/50\n",
      "73/73 [==============================] - 11s 155ms/step - loss: 0.0024\n",
      "Epoch 43/50\n",
      "73/73 [==============================] - 15s 200ms/step - loss: 0.0020\n",
      "Epoch 44/50\n",
      "73/73 [==============================] - 12s 165ms/step - loss: 0.0024\n",
      "Epoch 45/50\n",
      "73/73 [==============================] - 12s 160ms/step - loss: 0.0024\n",
      "Epoch 46/50\n",
      "73/73 [==============================] - 11s 156ms/step - loss: 0.0025\n",
      "Epoch 47/50\n",
      "73/73 [==============================] - 11s 151ms/step - loss: 0.0025\n",
      "Epoch 48/50\n",
      "73/73 [==============================] - 12s 162ms/step - loss: 0.0020\n",
      "Epoch 49/50\n",
      "73/73 [==============================] - 13s 173ms/step - loss: 0.0021\n",
      "Epoch 50/50\n",
      "73/73 [==============================] - 14s 198ms/step - loss: 0.0023\n"
     ]
    },
    {
     "data": {
      "text/plain": [
       "<keras.src.callbacks.History at 0x1ece1224810>"
      ]
     },
     "execution_count": 58,
     "metadata": {},
     "output_type": "execute_result"
    }
   ],
   "source": [
    "NASDAQ_model.compile(optimizer='adam', loss='mean_squared_error')\n",
    "NASDAQ_model.fit(NASDAQ_x_train,NASDAQ_y_train,epochs=50)"
   ]
  },
  {
   "cell_type": "code",
   "execution_count": 59,
   "id": "c7872556",
   "metadata": {},
   "outputs": [
    {
     "name": "stdout",
     "output_type": "stream",
     "text": [
      "Epoch 1/50\n",
      "71/71 [==============================] - 20s 195ms/step - loss: 0.0392\n",
      "Epoch 2/50\n",
      "71/71 [==============================] - 13s 177ms/step - loss: 0.0084\n",
      "Epoch 3/50\n",
      "71/71 [==============================] - 14s 193ms/step - loss: 0.0070\n",
      "Epoch 4/50\n",
      "71/71 [==============================] - 13s 185ms/step - loss: 0.0066\n",
      "Epoch 5/50\n",
      "71/71 [==============================] - 13s 186ms/step - loss: 0.0066\n",
      "Epoch 6/50\n",
      "71/71 [==============================] - 13s 186ms/step - loss: 0.0057\n",
      "Epoch 7/50\n",
      "71/71 [==============================] - 13s 183ms/step - loss: 0.0056\n",
      "Epoch 8/50\n",
      "71/71 [==============================] - 13s 182ms/step - loss: 0.0056\n",
      "Epoch 9/50\n",
      "71/71 [==============================] - 13s 177ms/step - loss: 0.0057\n",
      "Epoch 10/50\n",
      "71/71 [==============================] - 13s 178ms/step - loss: 0.0051\n",
      "Epoch 11/50\n",
      "71/71 [==============================] - 12s 167ms/step - loss: 0.0049\n",
      "Epoch 12/50\n",
      "71/71 [==============================] - 10s 145ms/step - loss: 0.0049\n",
      "Epoch 13/50\n",
      "71/71 [==============================] - 10s 147ms/step - loss: 0.0043\n",
      "Epoch 14/50\n",
      "71/71 [==============================] - 10s 144ms/step - loss: 0.0042\n",
      "Epoch 15/50\n",
      "71/71 [==============================] - 10s 146ms/step - loss: 0.0039\n",
      "Epoch 16/50\n",
      "71/71 [==============================] - 10s 145ms/step - loss: 0.0036\n",
      "Epoch 17/50\n",
      "71/71 [==============================] - 10s 145ms/step - loss: 0.0037\n",
      "Epoch 18/50\n",
      "71/71 [==============================] - 10s 146ms/step - loss: 0.0038\n",
      "Epoch 19/50\n",
      "71/71 [==============================] - 10s 145ms/step - loss: 0.0036\n",
      "Epoch 20/50\n",
      "71/71 [==============================] - 11s 148ms/step - loss: 0.0036\n",
      "Epoch 21/50\n",
      "71/71 [==============================] - 10s 145ms/step - loss: 0.0034\n",
      "Epoch 22/50\n",
      "71/71 [==============================] - 10s 147ms/step - loss: 0.0035\n",
      "Epoch 23/50\n",
      "71/71 [==============================] - 10s 145ms/step - loss: 0.0031\n",
      "Epoch 24/50\n",
      "71/71 [==============================] - 10s 146ms/step - loss: 0.0034\n",
      "Epoch 25/50\n",
      "71/71 [==============================] - 11s 153ms/step - loss: 0.0032\n",
      "Epoch 26/50\n",
      "71/71 [==============================] - 10s 145ms/step - loss: 0.0028\n",
      "Epoch 27/50\n",
      "71/71 [==============================] - 10s 147ms/step - loss: 0.0030\n",
      "Epoch 28/50\n",
      "71/71 [==============================] - 10s 147ms/step - loss: 0.0027\n",
      "Epoch 29/50\n",
      "71/71 [==============================] - 10s 146ms/step - loss: 0.0028\n",
      "Epoch 30/50\n",
      "71/71 [==============================] - 10s 146ms/step - loss: 0.0027\n",
      "Epoch 31/50\n",
      "71/71 [==============================] - 10s 145ms/step - loss: 0.0030\n",
      "Epoch 32/50\n",
      "71/71 [==============================] - 10s 145ms/step - loss: 0.0027\n",
      "Epoch 33/50\n",
      "71/71 [==============================] - 10s 145ms/step - loss: 0.0026\n",
      "Epoch 34/50\n",
      "71/71 [==============================] - 10s 146ms/step - loss: 0.0027\n",
      "Epoch 35/50\n",
      "71/71 [==============================] - 10s 145ms/step - loss: 0.0026\n",
      "Epoch 36/50\n",
      "71/71 [==============================] - 10s 146ms/step - loss: 0.0026\n",
      "Epoch 37/50\n",
      "71/71 [==============================] - 10s 145ms/step - loss: 0.0025\n",
      "Epoch 38/50\n",
      "71/71 [==============================] - 10s 146ms/step - loss: 0.0025\n",
      "Epoch 39/50\n",
      "71/71 [==============================] - 10s 147ms/step - loss: 0.0024\n",
      "Epoch 40/50\n",
      "71/71 [==============================] - 10s 146ms/step - loss: 0.0023\n",
      "Epoch 41/50\n",
      "71/71 [==============================] - 11s 157ms/step - loss: 0.0028\n",
      "Epoch 42/50\n",
      "71/71 [==============================] - 11s 149ms/step - loss: 0.0024\n",
      "Epoch 43/50\n",
      "71/71 [==============================] - 11s 148ms/step - loss: 0.0025\n",
      "Epoch 44/50\n",
      "71/71 [==============================] - 11s 148ms/step - loss: 0.0024\n",
      "Epoch 45/50\n",
      "71/71 [==============================] - 11s 156ms/step - loss: 0.0025\n",
      "Epoch 46/50\n",
      "71/71 [==============================] - 11s 149ms/step - loss: 0.0024\n",
      "Epoch 47/50\n",
      "71/71 [==============================] - 11s 159ms/step - loss: 0.0024\n",
      "Epoch 48/50\n",
      "71/71 [==============================] - 12s 162ms/step - loss: 0.0023\n",
      "Epoch 49/50\n",
      "71/71 [==============================] - 12s 164ms/step - loss: 0.0022\n",
      "Epoch 50/50\n",
      "71/71 [==============================] - 11s 154ms/step - loss: 0.0024\n"
     ]
    },
    {
     "data": {
      "text/plain": [
       "<keras.src.callbacks.History at 0x1eceb921d90>"
      ]
     },
     "execution_count": 59,
     "metadata": {},
     "output_type": "execute_result"
    }
   ],
   "source": [
    "NIFTY_model.compile(optimizer='adam', loss='mean_squared_error')\n",
    "NIFTY_model.fit(NIFTY_x_train,NIFTY_y_train,epochs=50)"
   ]
  },
  {
   "cell_type": "code",
   "execution_count": 60,
   "id": "7962424f",
   "metadata": {},
   "outputs": [
    {
     "name": "stdout",
     "output_type": "stream",
     "text": [
      "Epoch 1/50\n",
      "73/73 [==============================] - 14s 142ms/step - loss: 0.0406\n",
      "Epoch 2/50\n",
      "73/73 [==============================] - 11s 148ms/step - loss: 0.0090\n",
      "Epoch 3/50\n",
      "73/73 [==============================] - 12s 164ms/step - loss: 0.0088\n",
      "Epoch 4/50\n",
      "73/73 [==============================] - 11s 152ms/step - loss: 0.0067\n",
      "Epoch 5/50\n",
      "73/73 [==============================] - 11s 151ms/step - loss: 0.0064\n",
      "Epoch 6/50\n",
      "73/73 [==============================] - 11s 151ms/step - loss: 0.0063\n",
      "Epoch 7/50\n",
      "73/73 [==============================] - 11s 150ms/step - loss: 0.0060\n",
      "Epoch 8/50\n",
      "73/73 [==============================] - 12s 165ms/step - loss: 0.0056\n",
      "Epoch 9/50\n",
      "73/73 [==============================] - 11s 156ms/step - loss: 0.0068\n",
      "Epoch 10/50\n",
      "73/73 [==============================] - 11s 147ms/step - loss: 0.0050\n",
      "Epoch 11/50\n",
      "73/73 [==============================] - 10s 139ms/step - loss: 0.0056\n",
      "Epoch 12/50\n",
      "73/73 [==============================] - 11s 145ms/step - loss: 0.0049\n",
      "Epoch 13/50\n",
      "73/73 [==============================] - 10s 137ms/step - loss: 0.0045\n",
      "Epoch 14/50\n",
      "73/73 [==============================] - 10s 137ms/step - loss: 0.0043\n",
      "Epoch 15/50\n",
      "73/73 [==============================] - 10s 137ms/step - loss: 0.0042\n",
      "Epoch 16/50\n",
      "73/73 [==============================] - 10s 138ms/step - loss: 0.0038\n",
      "Epoch 17/50\n",
      "73/73 [==============================] - 10s 137ms/step - loss: 0.0040\n",
      "Epoch 18/50\n",
      "73/73 [==============================] - 10s 138ms/step - loss: 0.0040\n",
      "Epoch 19/50\n",
      "73/73 [==============================] - 10s 139ms/step - loss: 0.0039\n",
      "Epoch 20/50\n",
      "73/73 [==============================] - 10s 137ms/step - loss: 0.0036\n",
      "Epoch 21/50\n",
      "73/73 [==============================] - 10s 137ms/step - loss: 0.0036\n",
      "Epoch 22/50\n",
      "73/73 [==============================] - 10s 140ms/step - loss: 0.0031\n",
      "Epoch 23/50\n",
      "73/73 [==============================] - 10s 140ms/step - loss: 0.0032\n",
      "Epoch 24/50\n",
      "73/73 [==============================] - 11s 144ms/step - loss: 0.0033\n",
      "Epoch 25/50\n",
      "73/73 [==============================] - 11s 144ms/step - loss: 0.0031\n",
      "Epoch 26/50\n",
      "73/73 [==============================] - 10s 143ms/step - loss: 0.0030\n",
      "Epoch 27/50\n",
      "73/73 [==============================] - 11s 147ms/step - loss: 0.0030\n",
      "Epoch 28/50\n",
      "73/73 [==============================] - 10s 142ms/step - loss: 0.0027\n",
      "Epoch 29/50\n",
      "73/73 [==============================] - 10s 142ms/step - loss: 0.0030\n",
      "Epoch 30/50\n",
      "73/73 [==============================] - 10s 143ms/step - loss: 0.0029\n",
      "Epoch 31/50\n",
      "73/73 [==============================] - 10s 144ms/step - loss: 0.0028\n",
      "Epoch 32/50\n",
      "73/73 [==============================] - 10s 143ms/step - loss: 0.0026\n",
      "Epoch 33/50\n",
      "73/73 [==============================] - 10s 143ms/step - loss: 0.0026\n",
      "Epoch 34/50\n",
      "73/73 [==============================] - 11s 146ms/step - loss: 0.0025\n",
      "Epoch 35/50\n",
      "73/73 [==============================] - 10s 143ms/step - loss: 0.0024\n",
      "Epoch 36/50\n",
      "73/73 [==============================] - 10s 143ms/step - loss: 0.0026\n",
      "Epoch 37/50\n",
      "73/73 [==============================] - 11s 145ms/step - loss: 0.0026\n",
      "Epoch 38/50\n",
      "73/73 [==============================] - 10s 143ms/step - loss: 0.0027\n",
      "Epoch 39/50\n",
      "73/73 [==============================] - 10s 143ms/step - loss: 0.0027\n",
      "Epoch 40/50\n",
      "73/73 [==============================] - 10s 143ms/step - loss: 0.0024\n",
      "Epoch 41/50\n",
      "73/73 [==============================] - 10s 143ms/step - loss: 0.0025\n",
      "Epoch 42/50\n",
      "73/73 [==============================] - 11s 145ms/step - loss: 0.0025\n",
      "Epoch 43/50\n",
      "73/73 [==============================] - 10s 143ms/step - loss: 0.0028\n",
      "Epoch 44/50\n",
      "73/73 [==============================] - 11s 144ms/step - loss: 0.0023\n",
      "Epoch 45/50\n",
      "73/73 [==============================] - 11s 150ms/step - loss: 0.0025\n",
      "Epoch 46/50\n",
      "73/73 [==============================] - 13s 178ms/step - loss: 0.0023\n",
      "Epoch 47/50\n",
      "73/73 [==============================] - 11s 146ms/step - loss: 0.0025\n",
      "Epoch 48/50\n",
      "73/73 [==============================] - 11s 147ms/step - loss: 0.0024\n",
      "Epoch 49/50\n",
      "73/73 [==============================] - 11s 144ms/step - loss: 0.0024\n",
      "Epoch 50/50\n",
      "73/73 [==============================] - 11s 145ms/step - loss: 0.0025\n"
     ]
    },
    {
     "data": {
      "text/plain": [
       "<keras.src.callbacks.History at 0x1ecf0b31d90>"
      ]
     },
     "execution_count": 60,
     "metadata": {},
     "output_type": "execute_result"
    }
   ],
   "source": [
    "SnP_model.compile(optimizer='adam', loss='mean_squared_error')\n",
    "SnP_model.fit(SnP_x_train,SnP_y_train,epochs=50)"
   ]
  },
  {
   "cell_type": "code",
   "execution_count": 61,
   "id": "4c8d45b6",
   "metadata": {},
   "outputs": [
    {
     "name": "stderr",
     "output_type": "stream",
     "text": [
      "C:\\Users\\ASUS\\Desktop\\projects\\TFOD\\TFODCourse\\tfod\\Lib\\site-packages\\keras\\src\\engine\\training.py:3000: UserWarning: You are saving your model as an HDF5 file via `model.save()`. This file format is considered legacy. We recommend using instead the native Keras format, e.g. `model.save('my_model.keras')`.\n",
      "  saving_api.save_model(\n"
     ]
    }
   ],
   "source": [
    "NYSE_model.save('NYSE_model.h5')\n",
    "NIFTY_model.save('NIFTY_model.h5')\n",
    "SnP_model.save('SnP_model.h5')\n",
    "NASDAQ_model.save('NASDAQ_model.h5')"
   ]
  },
  {
   "cell_type": "code",
   "execution_count": 62,
   "id": "91c96460",
   "metadata": {},
   "outputs": [
    {
     "data": {
      "text/html": [
       "<div>\n",
       "<style scoped>\n",
       "    .dataframe tbody tr th:only-of-type {\n",
       "        vertical-align: middle;\n",
       "    }\n",
       "\n",
       "    .dataframe tbody tr th {\n",
       "        vertical-align: top;\n",
       "    }\n",
       "\n",
       "    .dataframe thead th {\n",
       "        text-align: right;\n",
       "    }\n",
       "</style>\n",
       "<table border=\"1\" class=\"dataframe\">\n",
       "  <thead>\n",
       "    <tr style=\"text-align: right;\">\n",
       "      <th></th>\n",
       "      <th>Close</th>\n",
       "    </tr>\n",
       "  </thead>\n",
       "  <tbody>\n",
       "    <tr>\n",
       "      <th>2428</th>\n",
       "      <td>12474.049805</td>\n",
       "    </tr>\n",
       "    <tr>\n",
       "      <th>2429</th>\n",
       "      <td>12559.230469</td>\n",
       "    </tr>\n",
       "    <tr>\n",
       "      <th>2430</th>\n",
       "      <td>12704.030273</td>\n",
       "    </tr>\n",
       "    <tr>\n",
       "      <th>2431</th>\n",
       "      <td>12736.879883</td>\n",
       "    </tr>\n",
       "    <tr>\n",
       "      <th>2432</th>\n",
       "      <td>12663.400391</td>\n",
       "    </tr>\n",
       "  </tbody>\n",
       "</table>\n",
       "</div>"
      ],
      "text/plain": [
       "             Close\n",
       "2428  12474.049805\n",
       "2429  12559.230469\n",
       "2430  12704.030273\n",
       "2431  12736.879883\n",
       "2432  12663.400391"
      ]
     },
     "execution_count": 62,
     "metadata": {},
     "output_type": "execute_result"
    }
   ],
   "source": [
    "NYSE_data_testing.head()"
   ]
  },
  {
   "cell_type": "code",
   "execution_count": 63,
   "id": "e2d922d9",
   "metadata": {},
   "outputs": [
    {
     "data": {
      "text/html": [
       "<div>\n",
       "<style scoped>\n",
       "    .dataframe tbody tr th:only-of-type {\n",
       "        vertical-align: middle;\n",
       "    }\n",
       "\n",
       "    .dataframe tbody tr th {\n",
       "        vertical-align: top;\n",
       "    }\n",
       "\n",
       "    .dataframe thead th {\n",
       "        text-align: right;\n",
       "    }\n",
       "</style>\n",
       "<table border=\"1\" class=\"dataframe\">\n",
       "  <thead>\n",
       "    <tr style=\"text-align: right;\">\n",
       "      <th></th>\n",
       "      <th>Close</th>\n",
       "    </tr>\n",
       "  </thead>\n",
       "  <tbody>\n",
       "    <tr>\n",
       "      <th>2328</th>\n",
       "      <td>12868.740234</td>\n",
       "    </tr>\n",
       "    <tr>\n",
       "      <th>2329</th>\n",
       "      <td>12927.719727</td>\n",
       "    </tr>\n",
       "    <tr>\n",
       "      <th>2330</th>\n",
       "      <td>12943.339844</td>\n",
       "    </tr>\n",
       "    <tr>\n",
       "      <th>2331</th>\n",
       "      <td>12849.709961</td>\n",
       "    </tr>\n",
       "    <tr>\n",
       "      <th>2332</th>\n",
       "      <td>12887.360352</td>\n",
       "    </tr>\n",
       "    <tr>\n",
       "      <th>...</th>\n",
       "      <td>...</td>\n",
       "    </tr>\n",
       "    <tr>\n",
       "      <th>2423</th>\n",
       "      <td>12599.410156</td>\n",
       "    </tr>\n",
       "    <tr>\n",
       "      <th>2424</th>\n",
       "      <td>12697.009766</td>\n",
       "    </tr>\n",
       "    <tr>\n",
       "      <th>2425</th>\n",
       "      <td>12688.459961</td>\n",
       "    </tr>\n",
       "    <tr>\n",
       "      <th>2426</th>\n",
       "      <td>12416.450195</td>\n",
       "    </tr>\n",
       "    <tr>\n",
       "      <th>2427</th>\n",
       "      <td>12519.620117</td>\n",
       "    </tr>\n",
       "  </tbody>\n",
       "</table>\n",
       "<p>100 rows × 1 columns</p>\n",
       "</div>"
      ],
      "text/plain": [
       "             Close\n",
       "2328  12868.740234\n",
       "2329  12927.719727\n",
       "2330  12943.339844\n",
       "2331  12849.709961\n",
       "2332  12887.360352\n",
       "...            ...\n",
       "2423  12599.410156\n",
       "2424  12697.009766\n",
       "2425  12688.459961\n",
       "2426  12416.450195\n",
       "2427  12519.620117\n",
       "\n",
       "[100 rows x 1 columns]"
      ]
     },
     "execution_count": 63,
     "metadata": {},
     "output_type": "execute_result"
    }
   ],
   "source": [
    "NYSE_data_training.tail(100)"
   ]
  },
  {
   "cell_type": "code",
   "execution_count": 64,
   "id": "eae0eaa1",
   "metadata": {},
   "outputs": [],
   "source": [
    "past_100_days = NYSE_data_training.tail(100)"
   ]
  },
  {
   "cell_type": "code",
   "execution_count": 65,
   "id": "5cf43ff8",
   "metadata": {
    "scrolled": true
   },
   "outputs": [
    {
     "data": {
      "text/html": [
       "<div>\n",
       "<style scoped>\n",
       "    .dataframe tbody tr th:only-of-type {\n",
       "        vertical-align: middle;\n",
       "    }\n",
       "\n",
       "    .dataframe tbody tr th {\n",
       "        vertical-align: top;\n",
       "    }\n",
       "\n",
       "    .dataframe thead th {\n",
       "        text-align: right;\n",
       "    }\n",
       "</style>\n",
       "<table border=\"1\" class=\"dataframe\">\n",
       "  <thead>\n",
       "    <tr style=\"text-align: right;\">\n",
       "      <th></th>\n",
       "      <th>Close</th>\n",
       "    </tr>\n",
       "  </thead>\n",
       "  <tbody>\n",
       "    <tr>\n",
       "      <th>2328</th>\n",
       "      <td>12868.740234</td>\n",
       "    </tr>\n",
       "    <tr>\n",
       "      <th>2329</th>\n",
       "      <td>12927.719727</td>\n",
       "    </tr>\n",
       "    <tr>\n",
       "      <th>2330</th>\n",
       "      <td>12943.339844</td>\n",
       "    </tr>\n",
       "    <tr>\n",
       "      <th>2331</th>\n",
       "      <td>12849.709961</td>\n",
       "    </tr>\n",
       "    <tr>\n",
       "      <th>2332</th>\n",
       "      <td>12887.360352</td>\n",
       "    </tr>\n",
       "    <tr>\n",
       "      <th>...</th>\n",
       "      <td>...</td>\n",
       "    </tr>\n",
       "    <tr>\n",
       "      <th>2423</th>\n",
       "      <td>12599.410156</td>\n",
       "    </tr>\n",
       "    <tr>\n",
       "      <th>2424</th>\n",
       "      <td>12697.009766</td>\n",
       "    </tr>\n",
       "    <tr>\n",
       "      <th>2425</th>\n",
       "      <td>12688.459961</td>\n",
       "    </tr>\n",
       "    <tr>\n",
       "      <th>2426</th>\n",
       "      <td>12416.450195</td>\n",
       "    </tr>\n",
       "    <tr>\n",
       "      <th>2427</th>\n",
       "      <td>12519.620117</td>\n",
       "    </tr>\n",
       "  </tbody>\n",
       "</table>\n",
       "<p>100 rows × 1 columns</p>\n",
       "</div>"
      ],
      "text/plain": [
       "             Close\n",
       "2328  12868.740234\n",
       "2329  12927.719727\n",
       "2330  12943.339844\n",
       "2331  12849.709961\n",
       "2332  12887.360352\n",
       "...            ...\n",
       "2423  12599.410156\n",
       "2424  12697.009766\n",
       "2425  12688.459961\n",
       "2426  12416.450195\n",
       "2427  12519.620117\n",
       "\n",
       "[100 rows x 1 columns]"
      ]
     },
     "execution_count": 65,
     "metadata": {},
     "output_type": "execute_result"
    }
   ],
   "source": [
    "past_100_days"
   ]
  },
  {
   "cell_type": "code",
   "execution_count": 66,
   "id": "ec006f9a",
   "metadata": {},
   "outputs": [
    {
     "data": {
      "text/html": [
       "<div>\n",
       "<style scoped>\n",
       "    .dataframe tbody tr th:only-of-type {\n",
       "        vertical-align: middle;\n",
       "    }\n",
       "\n",
       "    .dataframe tbody tr th {\n",
       "        vertical-align: top;\n",
       "    }\n",
       "\n",
       "    .dataframe thead th {\n",
       "        text-align: right;\n",
       "    }\n",
       "</style>\n",
       "<table border=\"1\" class=\"dataframe\">\n",
       "  <thead>\n",
       "    <tr style=\"text-align: right;\">\n",
       "      <th></th>\n",
       "      <th>Close</th>\n",
       "    </tr>\n",
       "  </thead>\n",
       "  <tbody>\n",
       "    <tr>\n",
       "      <th>0</th>\n",
       "      <td>12868.740234</td>\n",
       "    </tr>\n",
       "    <tr>\n",
       "      <th>1</th>\n",
       "      <td>12927.719727</td>\n",
       "    </tr>\n",
       "    <tr>\n",
       "      <th>2</th>\n",
       "      <td>12943.339844</td>\n",
       "    </tr>\n",
       "    <tr>\n",
       "      <th>3</th>\n",
       "      <td>12849.709961</td>\n",
       "    </tr>\n",
       "    <tr>\n",
       "      <th>4</th>\n",
       "      <td>12887.360352</td>\n",
       "    </tr>\n",
       "    <tr>\n",
       "      <th>...</th>\n",
       "      <td>...</td>\n",
       "    </tr>\n",
       "    <tr>\n",
       "      <th>95</th>\n",
       "      <td>12599.410156</td>\n",
       "    </tr>\n",
       "    <tr>\n",
       "      <th>96</th>\n",
       "      <td>12697.009766</td>\n",
       "    </tr>\n",
       "    <tr>\n",
       "      <th>97</th>\n",
       "      <td>12688.459961</td>\n",
       "    </tr>\n",
       "    <tr>\n",
       "      <th>98</th>\n",
       "      <td>12416.450195</td>\n",
       "    </tr>\n",
       "    <tr>\n",
       "      <th>99</th>\n",
       "      <td>12519.620117</td>\n",
       "    </tr>\n",
       "  </tbody>\n",
       "</table>\n",
       "<p>100 rows × 1 columns</p>\n",
       "</div>"
      ],
      "text/plain": [
       "           Close\n",
       "0   12868.740234\n",
       "1   12927.719727\n",
       "2   12943.339844\n",
       "3   12849.709961\n",
       "4   12887.360352\n",
       "..           ...\n",
       "95  12599.410156\n",
       "96  12697.009766\n",
       "97  12688.459961\n",
       "98  12416.450195\n",
       "99  12519.620117\n",
       "\n",
       "[100 rows x 1 columns]"
      ]
     },
     "execution_count": 66,
     "metadata": {},
     "output_type": "execute_result"
    }
   ],
   "source": [
    "past_100_days.reset_index().drop('index',axis=1)"
   ]
  },
  {
   "cell_type": "code",
   "execution_count": 67,
   "id": "325f06ba",
   "metadata": {},
   "outputs": [],
   "source": [
    "final_df = pd.concat([past_100_days, NYSE_data_testing], ignore_index=True)"
   ]
  },
  {
   "cell_type": "code",
   "execution_count": 68,
   "id": "94dc196b",
   "metadata": {},
   "outputs": [
    {
     "data": {
      "text/html": [
       "<div>\n",
       "<style scoped>\n",
       "    .dataframe tbody tr th:only-of-type {\n",
       "        vertical-align: middle;\n",
       "    }\n",
       "\n",
       "    .dataframe tbody tr th {\n",
       "        vertical-align: top;\n",
       "    }\n",
       "\n",
       "    .dataframe thead th {\n",
       "        text-align: right;\n",
       "    }\n",
       "</style>\n",
       "<table border=\"1\" class=\"dataframe\">\n",
       "  <thead>\n",
       "    <tr style=\"text-align: right;\">\n",
       "      <th></th>\n",
       "      <th>Close</th>\n",
       "    </tr>\n",
       "  </thead>\n",
       "  <tbody>\n",
       "    <tr>\n",
       "      <th>0</th>\n",
       "      <td>12868.740234</td>\n",
       "    </tr>\n",
       "    <tr>\n",
       "      <th>1</th>\n",
       "      <td>12927.719727</td>\n",
       "    </tr>\n",
       "    <tr>\n",
       "      <th>2</th>\n",
       "      <td>12943.339844</td>\n",
       "    </tr>\n",
       "    <tr>\n",
       "      <th>3</th>\n",
       "      <td>12849.709961</td>\n",
       "    </tr>\n",
       "    <tr>\n",
       "      <th>4</th>\n",
       "      <td>12887.360352</td>\n",
       "    </tr>\n",
       "  </tbody>\n",
       "</table>\n",
       "</div>"
      ],
      "text/plain": [
       "          Close\n",
       "0  12868.740234\n",
       "1  12927.719727\n",
       "2  12943.339844\n",
       "3  12849.709961\n",
       "4  12887.360352"
      ]
     },
     "execution_count": 68,
     "metadata": {},
     "output_type": "execute_result"
    }
   ],
   "source": [
    "final_df.head()"
   ]
  },
  {
   "cell_type": "code",
   "execution_count": 69,
   "id": "ab9faade",
   "metadata": {},
   "outputs": [],
   "source": [
    "input_data = NYSE_scaler.fit_transform(final_df)"
   ]
  },
  {
   "cell_type": "code",
   "execution_count": 70,
   "id": "880c6448",
   "metadata": {},
   "outputs": [
    {
     "data": {
      "text/plain": [
       "(1141, 1)"
      ]
     },
     "execution_count": 70,
     "metadata": {},
     "output_type": "execute_result"
    }
   ],
   "source": [
    "input_data.shape"
   ]
  },
  {
   "cell_type": "code",
   "execution_count": 71,
   "id": "b548e653",
   "metadata": {},
   "outputs": [
    {
     "data": {
      "text/plain": [
       "array([[0.47704981],\n",
       "       [0.48392677],\n",
       "       [0.48574807],\n",
       "       ...,\n",
       "       [0.78242807],\n",
       "       [0.76397851],\n",
       "       [0.76329645]])"
      ]
     },
     "execution_count": 71,
     "metadata": {},
     "output_type": "execute_result"
    }
   ],
   "source": [
    "input_data"
   ]
  },
  {
   "cell_type": "code",
   "execution_count": 72,
   "id": "77956aaa",
   "metadata": {},
   "outputs": [],
   "source": [
    "NYSE_x_test = []\n",
    "NYSE_y_test = []\n",
    "\n",
    "for i in range(100, input_data.shape[0]):\n",
    "    NYSE_x_test.append(input_data[i-100:i])\n",
    "    NYSE_y_test.append(input_data[i, 0])"
   ]
  },
  {
   "cell_type": "code",
   "execution_count": 73,
   "id": "1c2dd24a",
   "metadata": {},
   "outputs": [
    {
     "name": "stdout",
     "output_type": "stream",
     "text": [
      "(1041, 100, 1)\n",
      "(1041,)\n"
     ]
    }
   ],
   "source": [
    "x_test, y_test = np.array(NYSE_x_test), np.array(NYSE_y_test)\n",
    "print(x_test.shape)\n",
    "print(y_test.shape)"
   ]
  },
  {
   "cell_type": "code",
   "execution_count": 74,
   "id": "a6f8c720",
   "metadata": {},
   "outputs": [
    {
     "name": "stdout",
     "output_type": "stream",
     "text": [
      "33/33 [==============================] - 2s 51ms/step\n"
     ]
    }
   ],
   "source": [
    "# Making Predictions\n",
    "\n",
    "y_predicted = NYSE_model.predict(x_test)"
   ]
  },
  {
   "cell_type": "code",
   "execution_count": 75,
   "id": "06efdecb",
   "metadata": {},
   "outputs": [
    {
     "data": {
      "text/plain": [
       "(1041, 1)"
      ]
     },
     "execution_count": 75,
     "metadata": {},
     "output_type": "execute_result"
    }
   ],
   "source": [
    "y_predicted.shape"
   ]
  },
  {
   "cell_type": "code",
   "execution_count": 76,
   "id": "dbc20d52",
   "metadata": {},
   "outputs": [
    {
     "data": {
      "text/plain": [
       "array([0.43102917, 0.44096118, 0.45784474, ..., 0.78242807, 0.76397851,\n",
       "       0.76329645])"
      ]
     },
     "execution_count": 76,
     "metadata": {},
     "output_type": "execute_result"
    }
   ],
   "source": [
    "y_test"
   ]
  },
  {
   "cell_type": "code",
   "execution_count": 77,
   "id": "8acae85d",
   "metadata": {},
   "outputs": [
    {
     "data": {
      "text/plain": [
       "array([[0.45723358],\n",
       "       [0.45714146],\n",
       "       [0.45661837],\n",
       "       ...,\n",
       "       [0.74720734],\n",
       "       [0.74675035],\n",
       "       [0.7480341 ]], dtype=float32)"
      ]
     },
     "execution_count": 77,
     "metadata": {},
     "output_type": "execute_result"
    }
   ],
   "source": [
    "y_predicted"
   ]
  },
  {
   "cell_type": "code",
   "execution_count": 78,
   "id": "16ef3b1c",
   "metadata": {},
   "outputs": [
    {
     "data": {
      "text/plain": [
       "array([0.0001166])"
      ]
     },
     "execution_count": 78,
     "metadata": {},
     "output_type": "execute_result"
    }
   ],
   "source": [
    "NYSE_scaler.scale_"
   ]
  },
  {
   "cell_type": "code",
   "execution_count": 79,
   "id": "eeb2a9f6",
   "metadata": {},
   "outputs": [],
   "source": [
    "scale_factor = 1/0.00973236\n",
    "y_predicted = y_predicted * scale_factor\n",
    "y_test = y_test * scale_factor"
   ]
  },
  {
   "cell_type": "code",
   "execution_count": 80,
   "id": "36742da0",
   "metadata": {},
   "outputs": [
    {
     "data": {
      "image/png": "[encoded data removed]",
      "text/plain": [
       "<Figure size 1200x600 with 1 Axes>"
      ]
     },
     "metadata": {},
     "output_type": "display_data"
    }
   ],
   "source": [
    "plt.figure(figsize=(12,6))\n",
    "plt.plot(y_test, 'b', label = ' Original Price')\n",
    "plt.plot(y_predicted, 'r', label = 'Predicted Price')\n",
    "plt.xlabel('Time')\n",
    "plt.legend()\n",
    "plt.show()"
   ]
  },
  {
   "cell_type": "code",
   "execution_count": null,
   "id": "70dac9ef",
   "metadata": {},
   "outputs": [],
   "source": []
  }
 ],
 "metadata": {
  "kernelspec": {
   "display_name": "venv",
   "language": "python",
   "name": "python3"
  },
  "language_info": {
   "codemirror_mode": {
    "name": "ipython",
    "version": 3
   },
   "file_extension": ".py",
   "mimetype": "text/x-python",
   "name": "python",
   "nbconvert_exporter": "python",
   "pygments_lexer": "ipython3",
   "version": "3.11.3"
  }
 },
 "nbformat": 4,
 "nbformat_minor": 5
}
